{
 "cells": [
  {
   "cell_type": "markdown",
   "id": "3f4e3174",
   "metadata": {},
   "source": [
    "## List Comprehension"
   ]
  },
  {
   "cell_type": "markdown",
   "id": "ed12cb01",
   "metadata": {},
   "source": [
    "### Syntax\n",
    "\n",
    "newlist = [expression for item in iterable]    # without any condition      \n",
    "newlist = [expression for item in iterable if condition == True]     # with one condition             \n",
    "newlist = [expression if condition == True else expression for item in iterable]    # using if and else statement     \n",
    "newlist = [expression if condition == True else expression  if condition == True else expression  for item in iterable]   # using if elif and else statement     \n",
    "\n",
    "Python List comprehension provides a much more short syntax for creating a new list based on the values of an existing list."
   ]
  },
  {
   "cell_type": "code",
   "execution_count": 30,
   "id": "7ccaf5c0",
   "metadata": {},
   "outputs": [
    {
     "name": "stdout",
     "output_type": "stream",
     "text": [
      "excel\n",
      "EPython\n"
     ]
    }
   ],
   "source": [
    "subjects = ['excel','MySQL','EPython','Machine Learning']\n",
    "for i in subjects:\n",
    "    if i.lower()[0]=='e':\n",
    "        print(i)"
   ]
  },
  {
   "cell_type": "code",
   "execution_count": 31,
   "id": "3ddb747f",
   "metadata": {},
   "outputs": [
    {
     "data": {
      "text/plain": [
       "['excel', 'EPython']"
      ]
     },
     "execution_count": 31,
     "metadata": {},
     "output_type": "execute_result"
    }
   ],
   "source": [
    "subjects = ['excel','MySQL','EPython','Machine Learning']\n",
    "[i   for i in subjects if i.lower()[0]=='e']"
   ]
  },
  {
   "cell_type": "code",
   "execution_count": 1,
   "id": "2e140786",
   "metadata": {},
   "outputs": [
    {
     "name": "stdout",
     "output_type": "stream",
     "text": [
      "['EXCEL', 'MYSQL', 'PYTHON', 'MACHINE LEARNING']\n"
     ]
    }
   ],
   "source": [
    "# Will use formal for loop and will compare with list comprehension\n",
    "# will convert all the element in the list in upper case\n",
    "\n",
    "subjects = ['Excel','MySQL','Python','Machine Learning']\n",
    "new_subject = []\n",
    "\n",
    "for i in subjects:\n",
    "    new_subject.append(i.upper())\n",
    "print(new_subject)"
   ]
  },
  {
   "cell_type": "code",
   "execution_count": 8,
   "id": "ed7da1e9",
   "metadata": {},
   "outputs": [
    {
     "name": "stdout",
     "output_type": "stream",
     "text": [
      "['EXCEL', 'MYSQL', 'PYTHON', 'MACHINE LEARNING']\n"
     ]
    }
   ],
   "source": [
    "# Now will use list comprehension to write the code in much more easier way\n",
    "\n",
    "new_subject = [i.upper()  for i in subjects]\n",
    "print(new_subject)"
   ]
  },
  {
   "cell_type": "markdown",
   "id": "7771fd54",
   "metadata": {},
   "source": [
    "### Condition\n",
    "\n",
    "The condition is like a filter that only accepts the items that valuate to True.\n"
   ]
  },
  {
   "cell_type": "code",
   "execution_count": 12,
   "id": "4a29f74d",
   "metadata": {},
   "outputs": [
    {
     "name": "stdout",
     "output_type": "stream",
     "text": [
      "Excel\n"
     ]
    }
   ],
   "source": [
    "# Lets print all the subjects which contains E in it    \n",
    "for i in subjects:\n",
    "    if 'E' in i:\n",
    "        print(i)     # You can see that it is printing only Excel because it is case sensitive "
   ]
  },
  {
   "cell_type": "code",
   "execution_count": 13,
   "id": "7a6bcae8",
   "metadata": {},
   "outputs": [
    {
     "name": "stdout",
     "output_type": "stream",
     "text": [
      "Excel\n",
      "Machine Learning\n"
     ]
    }
   ],
   "source": [
    "# Will write the same code in different way\n",
    "for i in subjects:\n",
    "    if 'E' in i.upper():\n",
    "        print(i)"
   ]
  },
  {
   "cell_type": "code",
   "execution_count": 33,
   "id": "45c7cf9f",
   "metadata": {},
   "outputs": [
    {
     "data": {
      "text/plain": [
       "['excel', 'EPython', 'Machine Learning']"
      ]
     },
     "execution_count": 33,
     "metadata": {},
     "output_type": "execute_result"
    }
   ],
   "source": [
    "# Now will use list comprehension to write the code in more consize way\n",
    "[i   for i in subjects if 'E' in i.upper()]"
   ]
  },
  {
   "cell_type": "markdown",
   "id": "9e010731",
   "metadata": {},
   "source": [
    "### Now will try to use if and else statement "
   ]
  },
  {
   "cell_type": "code",
   "execution_count": 17,
   "id": "d8b4b310",
   "metadata": {},
   "outputs": [
    {
     "name": "stdout",
     "output_type": "stream",
     "text": [
      "1 Odd\n",
      "2 Even\n",
      "3 Odd\n",
      "4 Even\n",
      "5 Odd\n",
      "6 Even\n",
      "7 Odd\n",
      "8 Even\n",
      "9 Odd\n",
      "10 Even\n"
     ]
    }
   ],
   "source": [
    "for i in range(1,11):\n",
    "    if i%2==0:\n",
    "        print(i,'Even')\n",
    "    else :\n",
    "        print(i,'Odd')"
   ]
  },
  {
   "cell_type": "code",
   "execution_count": 20,
   "id": "1ee35024",
   "metadata": {},
   "outputs": [
    {
     "name": "stdout",
     "output_type": "stream",
     "text": [
      "[(1, 'Odd'), (2, 'Even'), (3, 'Odd'), (4, 'Even'), (5, 'Odd'), (6, 'Even'), (7, 'Odd'), (8, 'Even'), (9, 'Odd'), (10, 'Even')]\n"
     ]
    }
   ],
   "source": [
    "odd_even_check = [(i,'Even') if i%2==0 else (i,'Odd') for i in range(1,11)]\n",
    "print(odd_even_check)"
   ]
  },
  {
   "cell_type": "markdown",
   "id": "91eea6db",
   "metadata": {},
   "source": [
    "## Assingment Question"
   ]
  },
  {
   "attachments": {
    "image.png": {
     "image/png": "[encoded data removed]"
    }
   },
   "cell_type": "markdown",
   "id": "6d105611",
   "metadata": {},
   "source": [
    "![image.png](attachment:image.png)"
   ]
  },
  {
   "cell_type": "code",
   "execution_count": 45,
   "id": "f9afdb8b",
   "metadata": {},
   "outputs": [],
   "source": [
    "def tax(income):\n",
    "    output = ['Tax Free Enjoy'  if income<=10000 else (income-10000)*.10  if income>10000 and income<=20000 else ((income-10000)*0+(10000)*.10+(income-20000)*.20)]\n",
    "    print(output)"
   ]
  },
  {
   "cell_type": "code",
   "execution_count": 47,
   "id": "c1bc9c5b",
   "metadata": {},
   "outputs": [
    {
     "name": "stdout",
     "output_type": "stream",
     "text": [
      "[1397000.0]\n"
     ]
    }
   ],
   "source": [
    "tax(7000000)"
   ]
  },
  {
   "cell_type": "markdown",
   "id": "3e4cd9ad",
   "metadata": {},
   "source": [
    "### Expected Output:\n",
    "\n",
    "For example, suppose the taxable income is 45000 the income tax payable is\n",
    "\n",
    "10000  *0% + 10000*    10%  + 25000    20% = $6000."
   ]
  },
  {
   "cell_type": "code",
   "execution_count": 10,
   "id": "bd0530d2",
   "metadata": {
    "scrolled": true
   },
   "outputs": [
    {
     "name": "stdout",
     "output_type": "stream",
     "text": [
      "Enter your salary45000\n",
      "intrest amount = 6000.0\n"
     ]
    }
   ],
   "source": [
    "taxable_income = int(input('Enter your salary'))\n",
    "\n",
    "if taxable_income <=10000:\n",
    "    print('Zero Tax')\n",
    "elif taxable_income >10000 and taxable_income <=20000:\n",
    "    print('intrest amount =',(taxable_income -10000)*0.1)\n",
    "else:\n",
    "    print('intrest amount =',(taxable_income-20000)*.2+(10000)*.1)"
   ]
  },
  {
   "cell_type": "code",
   "execution_count": 1,
   "id": "9551e76d",
   "metadata": {},
   "outputs": [
    {
     "name": "stdout",
     "output_type": "stream",
     "text": [
      "Enter the income45000\n"
     ]
    },
    {
     "data": {
      "text/plain": [
       "[6000.0]"
      ]
     },
     "execution_count": 1,
     "metadata": {},
     "output_type": "execute_result"
    }
   ],
   "source": [
    "#lis = [expression if condition == True else expression if condition == True else expression for item in iterable]\n",
    "a=int(input('Enter the income'))\n",
    "\n",
    "[ 'No Tax' if a<=10000 else (a-10000)*.1 if a>10000 and a<=20000 else ((10000*0.1)+(a-20000)*.2)]"
   ]
  },
  {
   "cell_type": "markdown",
   "id": "4c735d6d",
   "metadata": {},
   "source": [
    "## Assingments "
   ]
  },
  {
   "cell_type": "code",
   "execution_count": 1,
   "id": "732880c3",
   "metadata": {},
   "outputs": [],
   "source": [
    "string = \"Practice Problems to Drill List Comprehension in Your Head.\""
   ]
  },
  {
   "cell_type": "raw",
   "id": "74383290",
   "metadata": {},
   "source": [
    "1.\tFind all of the numbers from 1–1000 that are divisible by 8\n",
    "2.\tFind all of the numbers from 1–1000 that have a 6 in them\n",
    "3.\tCount the number of spaces in a string (use string above)\n",
    "4.\tRemove all of the vowels in a string (use string above)\n",
    "5.\tFind all of the words in a string that are less than 5 letters (use string above)\n",
    "6.\tUse a dictionary comprehension to count the length of each word in a sentence (use string above)"
   ]
  },
  {
   "cell_type": "code",
   "execution_count": 33,
   "id": "b318eeb0",
   "metadata": {},
   "outputs": [
    {
     "name": "stdout",
     "output_type": "stream",
     "text": [
      "[8, 16, 24, 32, 40, 48, 56, 64, 72, 80, 88, 96, 104, 112, 120, 128, 136, 144, 152, 160, 168, 176, 184, 192, 200, 208, 216, 224, 232, 240, 248, 256, 264, 272, 280, 288, 296, 304, 312, 320, 328, 336, 344, 352, 360, 368, 376, 384, 392, 400, 408, 416, 424, 432, 440, 448, 456, 464, 472, 480, 488, 496, 504, 512, 520, 528, 536, 544, 552, 560, 568, 576, 584, 592, 600, 608, 616, 624, 632, 640, 648, 656, 664, 672, 680, 688, 696, 704, 712, 720, 728, 736, 744, 752, 760, 768, 776, 784, 792, 800, 808, 816, 824, 832, 840, 848, 856, 864, 872, 880, 888, 896, 904, 912, 920, 928, 936, 944, 952, 960, 968, 976, 984, 992, 1000]\n"
     ]
    }
   ],
   "source": [
    "# 1. Find all of the numbers from 1–1000 that are divisible by 8\n",
    "\n",
    "output = [i  for i in range(1,1001)  if i%8 == 0]\n",
    "print(output)"
   ]
  },
  {
   "cell_type": "code",
   "execution_count": 35,
   "id": "64722be5",
   "metadata": {},
   "outputs": [
    {
     "name": "stdout",
     "output_type": "stream",
     "text": [
      "[6, 16, 26, 36, 46, 56, 60, 61, 62, 63, 64, 65, 66, 67, 68, 69, 76, 86, 96, 106, 116, 126, 136, 146, 156, 160, 161, 162, 163, 164, 165, 166, 167, 168, 169, 176, 186, 196, 206, 216, 226, 236, 246, 256, 260, 261, 262, 263, 264, 265, 266, 267, 268, 269, 276, 286, 296, 306, 316, 326, 336, 346, 356, 360, 361, 362, 363, 364, 365, 366, 367, 368, 369, 376, 386, 396, 406, 416, 426, 436, 446, 456, 460, 461, 462, 463, 464, 465, 466, 467, 468, 469, 476, 486, 496, 506, 516, 526, 536, 546, 556, 560, 561, 562, 563, 564, 565, 566, 567, 568, 569, 576, 586, 596, 600, 601, 602, 603, 604, 605, 606, 607, 608, 609, 610, 611, 612, 613, 614, 615, 616, 617, 618, 619, 620, 621, 622, 623, 624, 625, 626, 627, 628, 629, 630, 631, 632, 633, 634, 635, 636, 637, 638, 639, 640, 641, 642, 643, 644, 645, 646, 647, 648, 649, 650, 651, 652, 653, 654, 655, 656, 657, 658, 659, 660, 661, 662, 663, 664, 665, 666, 667, 668, 669, 670, 671, 672, 673, 674, 675, 676, 677, 678, 679, 680, 681, 682, 683, 684, 685, 686, 687, 688, 689, 690, 691, 692, 693, 694, 695, 696, 697, 698, 699, 706, 716, 726, 736, 746, 756, 760, 761, 762, 763, 764, 765, 766, 767, 768, 769, 776, 786, 796, 806, 816, 826, 836, 846, 856, 860, 861, 862, 863, 864, 865, 866, 867, 868, 869, 876, 886, 896, 906, 916, 926, 936, 946, 956, 960, 961, 962, 963, 964, 965, 966, 967, 968, 969, 976, 986, 996]\n"
     ]
    }
   ],
   "source": [
    "# 2. Find all of the numbers from 1–1000 that have a 6 in them\n",
    "\n",
    "output = [i  for i in range(1,1001) if '6' in str(i)]\n",
    "print(output)"
   ]
  },
  {
   "cell_type": "code",
   "execution_count": 36,
   "id": "8801fb23",
   "metadata": {},
   "outputs": [
    {
     "name": "stdout",
     "output_type": "stream",
     "text": [
      "8\n"
     ]
    }
   ],
   "source": [
    "# 3.Count the number of spaces in a string (use string above)\n",
    "output = len([i  for i in string if i==' '])\n",
    "print(output)"
   ]
  },
  {
   "cell_type": "code",
   "execution_count": 37,
   "id": "2170f310",
   "metadata": {
    "scrolled": true
   },
   "outputs": [
    {
     "name": "stdout",
     "output_type": "stream",
     "text": [
      "Prctc Prblms t Drll Lst Cmprhnsn n Yr Hd.\n"
     ]
    }
   ],
   "source": [
    "# 4.Remove all of the vowels in a string (use string above)\n",
    "output = ''.join([i  for i in string  if i.lower() not in 'aeiou'])\n",
    "print(output)"
   ]
  },
  {
   "cell_type": "code",
   "execution_count": 38,
   "id": "031441a4",
   "metadata": {},
   "outputs": [
    {
     "name": "stdout",
     "output_type": "stream",
     "text": [
      "['to', 'List', 'in', 'Your']\n"
     ]
    }
   ],
   "source": [
    "# 5.Find all of the words in a string that are less than 5 letters (use string above)\n",
    "\n",
    "output = [i for i in string.split()  if len(i)<5]\n",
    "print(output)"
   ]
  },
  {
   "cell_type": "code",
   "execution_count": 39,
   "id": "028d4a6f",
   "metadata": {},
   "outputs": [
    {
     "name": "stdout",
     "output_type": "stream",
     "text": [
      "{'Practice': 8, 'Problems': 8, 'to': 2, 'Drill': 5, 'List': 4, 'Comprehension': 13, 'in': 2, 'Your': 4, 'Head.': 5}\n"
     ]
    }
   ],
   "source": [
    "# 6.Use a dictionary comprehension to count the length of each word in a sentence (use string above)\n",
    "\n",
    "output = {i:len(i)  for i in string.split()}\n",
    "print(output)"
   ]
  },
  {
   "cell_type": "code",
   "execution_count": 83,
   "id": "a5f58753",
   "metadata": {},
   "outputs": [
    {
     "data": {
      "text/plain": [
       "['Practice',\n",
       " 'Problems',\n",
       " 'to',\n",
       " 'Drill',\n",
       " 'List',\n",
       " 'Comprehension',\n",
       " 'in',\n",
       " 'Your',\n",
       " 'Head.']"
      ]
     },
     "execution_count": 83,
     "metadata": {},
     "output_type": "execute_result"
    }
   ],
   "source": [
    "string.split()"
   ]
  },
  {
   "cell_type": "markdown",
   "id": "33ede4df",
   "metadata": {},
   "source": [
    "## Assignments"
   ]
  },
  {
   "cell_type": "markdown",
   "id": "6d973012",
   "metadata": {},
   "source": [
    "1. Write a program to extract even numbers from a list of 1 to 10\n",
    "2. Write a program to find the length of each word in a string\n",
    "3. Write a program to extract numbers that are divisible by 3 and 5 from 15 to 25\n",
    "4. Write a program to extract string that have more than 5 characters, lis = ['apple', 'banana', 'cat', 'date', 'elephant']\n",
    "5. Write a program to find the squares of the numbers in a list if the number is even number else print the number, lis=[23,55,66,90,34,33,63,88]\n",
    "6. Write a program to add corresponding elements from two list,  lis1 = [1,2,3,4], lis2 = [10,20,30,40]\n",
    "7. Write a program to extract string that start with a vowel\n",
    "\n"
   ]
  },
  {
   "cell_type": "raw",
   "id": "b8fe8b80",
   "metadata": {},
   "source": [
    "Find all of the numbers from 1–1000 that are divisible by 8\n",
    "Find all of the numbers from 1–1000 that have a 6 in them\n",
    "Count the number of spaces in a string (use string above)\n",
    "Remove all of the vowels in a string (use string above)\n",
    "Find all of the words in a string that are less than 5 letters (use string above)\n",
    "Use a dictionary comprehension to count the length of each word in a sentence (use string above)"
   ]
  },
  {
   "cell_type": "code",
   "execution_count": 49,
   "id": "61cc8bd3",
   "metadata": {},
   "outputs": [
    {
     "name": "stdout",
     "output_type": "stream",
     "text": [
      "[8, 16, 24, 32, 40, 48, 56, 64, 72, 80, 88, 96, 104, 112, 120, 128, 136, 144, 152, 160, 168, 176, 184, 192, 200, 208, 216, 224, 232, 240, 248, 256, 264, 272, 280, 288, 296, 304, 312, 320, 328, 336, 344, 352, 360, 368, 376, 384, 392, 400, 408, 416, 424, 432, 440, 448, 456, 464, 472, 480, 488, 496, 504, 512, 520, 528, 536, 544, 552, 560, 568, 576, 584, 592, 600, 608, 616, 624, 632, 640, 648, 656, 664, 672, 680, 688, 696, 704, 712, 720, 728, 736, 744, 752, 760, 768, 776, 784, 792, 800, 808, 816, 824, 832, 840, 848, 856, 864, 872, 880, 888, 896, 904, 912, 920, 928, 936, 944, 952, 960, 968, 976, 984, 992, 1000]\n"
     ]
    }
   ],
   "source": [
    "#1. Find all of the numbers from 1–1000 that are divisible by 8\n",
    "output = [i   for i in range(1,1001)  if i%8==0]\n",
    "print(output)"
   ]
  },
  {
   "cell_type": "code",
   "execution_count": 57,
   "id": "7615addc",
   "metadata": {},
   "outputs": [
    {
     "name": "stdout",
     "output_type": "stream",
     "text": [
      "[6, 16, 26, 36, 46, 56, 60, 61, 62, 63, 64, 65, 66, 67, 68, 69, 76, 86, 96, 106, 116, 126, 136, 146, 156, 160, 161, 162, 163, 164, 165, 166, 167, 168, 169, 176, 186, 196, 206, 216, 226, 236, 246, 256, 260, 261, 262, 263, 264, 265, 266, 267, 268, 269, 276, 286, 296, 306, 316, 326, 336, 346, 356, 360, 361, 362, 363, 364, 365, 366, 367, 368, 369, 376, 386, 396, 406, 416, 426, 436, 446, 456, 460, 461, 462, 463, 464, 465, 466, 467, 468, 469, 476, 486, 496, 506, 516, 526, 536, 546, 556, 560, 561, 562, 563, 564, 565, 566, 567, 568, 569, 576, 586, 596, 600, 601, 602, 603, 604, 605, 606, 607, 608, 609, 610, 611, 612, 613, 614, 615, 616, 617, 618, 619, 620, 621, 622, 623, 624, 625, 626, 627, 628, 629, 630, 631, 632, 633, 634, 635, 636, 637, 638, 639, 640, 641, 642, 643, 644, 645, 646, 647, 648, 649, 650, 651, 652, 653, 654, 655, 656, 657, 658, 659, 660, 661, 662, 663, 664, 665, 666, 667, 668, 669, 670, 671, 672, 673, 674, 675, 676, 677, 678, 679, 680, 681, 682, 683, 684, 685, 686, 687, 688, 689, 690, 691, 692, 693, 694, 695, 696, 697, 698, 699, 706, 716, 726, 736, 746, 756, 760, 761, 762, 763, 764, 765, 766, 767, 768, 769, 776, 786, 796, 806, 816, 826, 836, 846, 856, 860, 861, 862, 863, 864, 865, 866, 867, 868, 869, 876, 886, 896, 906, 916, 926, 936, 946, 956, 960, 961, 962, 963, 964, 965, 966, 967, 968, 969, 976, 986, 996]\n"
     ]
    }
   ],
   "source": [
    "# 2. Find all of the numbers from 1–1000 that have a 6 in them\n",
    "\n",
    "output = [i for i in range (1,1001) if '6' in str(i)]\n",
    "print(output)"
   ]
  },
  {
   "cell_type": "code",
   "execution_count": 61,
   "id": "5749f842",
   "metadata": {},
   "outputs": [
    {
     "data": {
      "text/plain": [
       "8"
      ]
     },
     "execution_count": 61,
     "metadata": {},
     "output_type": "execute_result"
    }
   ],
   "source": [
    "#  Count the number of spaces in a string\n",
    "\n",
    "string.count(' ')"
   ]
  },
  {
   "cell_type": "code",
   "execution_count": 70,
   "id": "d89d1f51",
   "metadata": {},
   "outputs": [
    {
     "data": {
      "text/plain": [
       "' Prctc Prblms t Drll Lst Cmprhnsn n Yr Hd.'"
      ]
     },
     "execution_count": 70,
     "metadata": {},
     "output_type": "execute_result"
    }
   ],
   "source": [
    "# Remove all of the vowels in a string (use string above)\n",
    "''.join([i for i in string1  if i.lower() not in 'aeiou'])"
   ]
  },
  {
   "cell_type": "code",
   "execution_count": 69,
   "id": "4a89c381",
   "metadata": {},
   "outputs": [],
   "source": [
    "string1 =  'A Practice Problems to Drill List Comprehension in Your Head.'"
   ]
  },
  {
   "cell_type": "code",
   "execution_count": 78,
   "id": "95543dfa",
   "metadata": {},
   "outputs": [
    {
     "name": "stdout",
     "output_type": "stream",
     "text": [
      "Practice ---> 8\n",
      "Problems ---> 8\n",
      "to ---> 2\n",
      "Drill ---> 5\n",
      "List ---> 4\n",
      "Comprehension ---> 13\n",
      "in ---> 2\n",
      "Your ---> 4\n",
      "Head. ---> 5\n"
     ]
    }
   ],
   "source": [
    "#Find all of the words in a string that are less than 5 letters (use string above)\n",
    "\n",
    "for i in string.split():\n",
    "        print(i,'--->',len(i))"
   ]
  },
  {
   "cell_type": "code",
   "execution_count": 77,
   "id": "9d4e71f7",
   "metadata": {},
   "outputs": [
    {
     "data": {
      "text/plain": [
       "[('to', '--->', 2),\n",
       " ('List', '--->', 4),\n",
       " ('in', '--->', 2),\n",
       " ('Your', '--->', 4)]"
      ]
     },
     "execution_count": 77,
     "metadata": {},
     "output_type": "execute_result"
    }
   ],
   "source": [
    "[(i,'--->',len(i)) for i in string.split() if len(i)<5]"
   ]
  },
  {
   "cell_type": "code",
   "execution_count": 79,
   "id": "d89e2fa7",
   "metadata": {},
   "outputs": [
    {
     "data": {
      "text/plain": [
       "{'Practice': 8,\n",
       " 'Problems': 8,\n",
       " 'to': 2,\n",
       " 'Drill': 5,\n",
       " 'List': 4,\n",
       " 'Comprehension': 13,\n",
       " 'in': 2,\n",
       " 'Your': 4,\n",
       " 'Head.': 5}"
      ]
     },
     "execution_count": 79,
     "metadata": {},
     "output_type": "execute_result"
    }
   ],
   "source": [
    "# Use a dictionary comprehension to count the length of each word in a sentence (use string above)\n",
    "\n",
    "{i:len(i)    for i in string.split()  }"
   ]
  },
  {
   "cell_type": "code",
   "execution_count": null,
   "id": "7b98c56b",
   "metadata": {},
   "outputs": [],
   "source": []
  }
 ],
 "metadata": {
  "kernelspec": {
   "display_name": "Python 3 (ipykernel)",
   "language": "python",
   "name": "python3"
  },
  "language_info": {
   "codemirror_mode": {
    "name": "ipython",
    "version": 3
   },
   "file_extension": ".py",
   "mimetype": "text/x-python",
   "name": "python",
   "nbconvert_exporter": "python",
   "pygments_lexer": "ipython3",
   "version": "3.11.5"
  }
 },
 "nbformat": 4,
 "nbformat_minor": 5
}
