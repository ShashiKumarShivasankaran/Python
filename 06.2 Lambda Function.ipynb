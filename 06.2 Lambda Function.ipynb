{
 "cells": [
  {
   "cell_type": "markdown",
   "id": "9a60f180",
   "metadata": {},
   "source": [
    "## what is Lambda Function\n",
    "#### A lambda function is an anonymous function (i.e., defined without a name) that can take any number of arguments but, unlike normal functions, evaluates and returns only one expression."
   ]
  },
  {
   "cell_type": "markdown",
   "id": "4b89fc5c",
   "metadata": {},
   "source": [
    "### Will look how to work on Map, Filter, Reduce"
   ]
  },
  {
   "cell_type": "markdown",
   "id": "e9d74488",
   "metadata": {},
   "source": [
    "### Syntax\n",
    "\n",
    "## lambda arguments : expression\n",
    "The expression is executed and the result is returned"
   ]
  },
  {
   "cell_type": "markdown",
   "id": "0bae2c2f",
   "metadata": {},
   "source": [
    "#### Example 1:"
   ]
  },
  {
   "cell_type": "code",
   "execution_count": 11,
   "id": "33638a5c",
   "metadata": {
    "scrolled": true
   },
   "outputs": [
    {
     "name": "stdout",
     "output_type": "stream",
     "text": [
      "15\n"
     ]
    }
   ],
   "source": [
    "# Add 10 to argument a, and return the result:\n",
    "\n",
    "x = lambda a : a + 10\n",
    "print(x(5))"
   ]
  },
  {
   "cell_type": "code",
   "execution_count": 12,
   "id": "72222d99",
   "metadata": {
    "scrolled": true
   },
   "outputs": [
    {
     "name": "stdout",
     "output_type": "stream",
     "text": [
      "46\n"
     ]
    }
   ],
   "source": [
    "s = 23\n",
    "check = lambda a : a*2\n",
    "print(check(s))"
   ]
  },
  {
   "cell_type": "markdown",
   "id": "ede1cfe4",
   "metadata": {},
   "source": [
    "##### Example 2:\n",
    "Lambda functions can take any number of arguments:"
   ]
  },
  {
   "cell_type": "code",
   "execution_count": 4,
   "id": "369aaf78",
   "metadata": {
    "scrolled": true
   },
   "outputs": [
    {
     "data": {
      "text/plain": [
       "6"
      ]
     },
     "execution_count": 4,
     "metadata": {},
     "output_type": "execute_result"
    }
   ],
   "source": [
    "mul = lambda a,b : a*b\n",
    "mul(2,3)"
   ]
  },
  {
   "cell_type": "code",
   "execution_count": 7,
   "id": "0d3c08ec",
   "metadata": {
    "scrolled": true
   },
   "outputs": [
    {
     "data": {
      "text/plain": [
       "21"
      ]
     },
     "execution_count": 7,
     "metadata": {},
     "output_type": "execute_result"
    }
   ],
   "source": [
    "power = lambda base,exp,addval : base**exp+addval\n",
    "power(2,4,5)"
   ]
  },
  {
   "cell_type": "code",
   "execution_count": 8,
   "id": "54281734",
   "metadata": {},
   "outputs": [
    {
     "data": {
      "text/plain": [
       "'JEEVAN'"
      ]
     },
     "execution_count": 8,
     "metadata": {},
     "output_type": "execute_result"
    }
   ],
   "source": [
    "name = 'jeevan'\n",
    "output = lambda a : a.upper()\n",
    "output(name)"
   ]
  },
  {
   "cell_type": "code",
   "execution_count": 13,
   "id": "134c9c20",
   "metadata": {},
   "outputs": [
    {
     "name": "stdout",
     "output_type": "stream",
     "text": [
      "30\n"
     ]
    }
   ],
   "source": [
    "# Multiply argument a with argument b and return the result:\n",
    "\n",
    "x = lambda a, b : a * b\n",
    "print(x(5, 6))"
   ]
  },
  {
   "cell_type": "code",
   "execution_count": 5,
   "id": "074378bd",
   "metadata": {},
   "outputs": [
    {
     "name": "stdout",
     "output_type": "stream",
     "text": [
      "13\n"
     ]
    }
   ],
   "source": [
    "# Summarize argument a, b, and c and return the result:\n",
    "\n",
    "x = lambda a, b, c : a + b + c\n",
    "print(x(5, 6, 2))"
   ]
  },
  {
   "cell_type": "markdown",
   "id": "958254a6",
   "metadata": {},
   "source": [
    "### Why Use Lambda Functions?\n",
    "The power of lambda is better shown when you use them as an anonymous function inside another function.\n",
    "\n",
    "Say you have a function definition that takes one argument, and that argument will be multiplied with an unknown number:"
   ]
  },
  {
   "cell_type": "code",
   "execution_count": 10,
   "id": "79ef513e",
   "metadata": {},
   "outputs": [
    {
     "data": {
      "text/plain": [
       "14"
      ]
     },
     "execution_count": 10,
     "metadata": {},
     "output_type": "execute_result"
    }
   ],
   "source": [
    "def double(a):\n",
    "    return lambda n,b: (a*n)+a-b      # a = 5, n = 2, b = 1\n",
    "\n",
    "dum = double(5)\n",
    "dum(2,1)"
   ]
  },
  {
   "cell_type": "code",
   "execution_count": 14,
   "id": "7e2a4d8b",
   "metadata": {
    "scrolled": true
   },
   "outputs": [
    {
     "data": {
      "text/plain": [
       "22"
      ]
     },
     "execution_count": 14,
     "metadata": {},
     "output_type": "execute_result"
    }
   ],
   "source": [
    "def myfunc(n):\n",
    "    return lambda a:a*n\n",
    "mydoubler = myfunc(2)\n",
    "mydoubler(11)"
   ]
  },
  {
   "cell_type": "code",
   "execution_count": 11,
   "id": "19864978",
   "metadata": {},
   "outputs": [
    {
     "name": "stdout",
     "output_type": "stream",
     "text": [
      "33\n"
     ]
    }
   ],
   "source": [
    "def myfunc(n):\n",
    "    return lambda a : a*n\n",
    "tripler = myfunc(3)\n",
    "print(tripler(11))"
   ]
  },
  {
   "cell_type": "code",
   "execution_count": 6,
   "id": "97b17dd6",
   "metadata": {},
   "outputs": [
    {
     "name": "stdout",
     "output_type": "stream",
     "text": [
      "22\n",
      "33\n"
     ]
    }
   ],
   "source": [
    "def myfunc(n):\n",
    "    return lambda a : a * n\n",
    "\n",
    "mydoubler = myfunc(2)\n",
    "mytripler = myfunc(3)\n",
    "\n",
    "print(mydoubler(11))\n",
    "print(mytripler(11))"
   ]
  },
  {
   "cell_type": "markdown",
   "id": "78b284bb",
   "metadata": {},
   "source": [
    "### Lets Do More Hands-on"
   ]
  },
  {
   "cell_type": "code",
   "execution_count": 1,
   "id": "55ad849d",
   "metadata": {},
   "outputs": [
    {
     "data": {
      "text/plain": [
       "7"
      ]
     },
     "execution_count": 1,
     "metadata": {},
     "output_type": "execute_result"
    }
   ],
   "source": [
    "# Now will add 2 numbers using lambda function \n",
    "add = lambda x,y: x+y\n",
    "add(3,4)"
   ]
  },
  {
   "cell_type": "code",
   "execution_count": 2,
   "id": "af5a827e",
   "metadata": {},
   "outputs": [
    {
     "data": {
      "text/plain": [
       "6"
      ]
     },
     "execution_count": 2,
     "metadata": {},
     "output_type": "execute_result"
    }
   ],
   "source": [
    "# Now will double a number\n",
    "double = lambda x:x+x\n",
    "double(3)"
   ]
  },
  {
   "cell_type": "code",
   "execution_count": 3,
   "id": "e7da53f0",
   "metadata": {},
   "outputs": [
    {
     "data": {
      "text/plain": [
       "9"
      ]
     },
     "execution_count": 3,
     "metadata": {},
     "output_type": "execute_result"
    }
   ],
   "source": [
    "# Now will write a power of a number\n",
    "power = lambda x,y: x**y\n",
    "power(3,2)"
   ]
  },
  {
   "cell_type": "code",
   "execution_count": 3,
   "id": "c8b44307",
   "metadata": {},
   "outputs": [
    {
     "name": "stdout",
     "output_type": "stream",
     "text": [
      "Even\n"
     ]
    }
   ],
   "source": [
    "# Lambda function using conditional expression\n",
    "conditional_lambda = lambda x: \"Even\" if x % 2 == 0 else \"Odd\"\n",
    "\n",
    "# Test the lambda function\n",
    "result = conditional_lambda(4)\n",
    "print(result)  \n"
   ]
  },
  {
   "cell_type": "code",
   "execution_count": 7,
   "id": "fc9c3acd",
   "metadata": {},
   "outputs": [
    {
     "name": "stdout",
     "output_type": "stream",
     "text": [
      "Positive\n"
     ]
    }
   ],
   "source": [
    "# Lambda function with if-elif-else logic using nested ternary conditionals\n",
    "conditional_lambda = lambda x: \"Positive\" if x > 0 else (\"Zero\" if x == 0 else \"Negative\")\n",
    "\n",
    "# Test the lambda function\n",
    "result = conditional_lambda(5)\n",
    "print(result)  # Output: Positive\n"
   ]
  },
  {
   "attachments": {
    "image.png": {
     "image/png": "[encoded data removed]"
    }
   },
   "cell_type": "markdown",
   "id": "6d105611",
   "metadata": {},
   "source": [
    "![image.png](attachment:image.png)"
   ]
  },
  {
   "cell_type": "code",
   "execution_count": 26,
   "id": "afaa87bf",
   "metadata": {},
   "outputs": [
    {
     "name": "stdout",
     "output_type": "stream",
     "text": [
      "7 is a prime no\n"
     ]
    }
   ],
   "source": [
    "def checkprime_no(b):\n",
    "    for i in range(2,b):\n",
    "        if b%i == 0:\n",
    "            print(b,\"is not a prime no\")\n",
    "            breaks\n",
    "    else:\n",
    "        print(b,\"is a prime no\")\n",
    "        \n",
    "checkprime_no(7)\n",
    "        "
   ]
  },
  {
   "cell_type": "code",
   "execution_count": 27,
   "id": "50fe4c88",
   "metadata": {},
   "outputs": [
    {
     "name": "stdout",
     "output_type": "stream",
     "text": [
      "4 is not a prime no\n"
     ]
    }
   ],
   "source": [
    "checkprime_no(4)\n",
    "        "
   ]
  },
  {
   "cell_type": "code",
   "execution_count": 11,
   "id": "4c9fb34e",
   "metadata": {},
   "outputs": [
    {
     "name": "stdout",
     "output_type": "stream",
     "text": [
      "Enter your income5000\n"
     ]
    },
    {
     "data": {
      "text/plain": [
       "'Tax Free'"
      ]
     },
     "execution_count": 11,
     "metadata": {},
     "output_type": "execute_result"
    }
   ],
   "source": [
    "# Try to solve above problem using lambda function\n",
    "\n",
    "income = int(input('Enter your income'))\n",
    "\n",
    "output = lambda x:  'Tax Free'  if x <= 10000 else((x-10000)*.1  if x <= 20000 else (x-20000)*.2+10000*.1)\n",
    "output(income)"
   ]
  },
  {
   "cell_type": "markdown",
   "id": "936605a4",
   "metadata": {},
   "source": [
    "### Now will Perform Map in Lambda Function\n",
    "\n",
    "Map in Python is a function that works as an iterator to return a result after applying a function to every item of an iterable"
   ]
  },
  {
   "cell_type": "markdown",
   "id": "0063a473",
   "metadata": {},
   "source": [
    "### Syntax\n",
    "\n",
    "### map(func,*iterables)"
   ]
  },
  {
   "cell_type": "code",
   "execution_count": 4,
   "id": "03e3ce76",
   "metadata": {},
   "outputs": [
    {
     "data": {
      "text/plain": [
       "[4, 16, 36, 64, 100]"
      ]
     },
     "execution_count": 4,
     "metadata": {},
     "output_type": "execute_result"
    }
   ],
   "source": [
    "# Now will square the number using lambda function \n",
    "num = [2,4,6,8,10]\n",
    "square_output = list(map(lambda x:x**2,num))\n",
    "square_output"
   ]
  },
  {
   "cell_type": "code",
   "execution_count": 6,
   "id": "3483b369",
   "metadata": {},
   "outputs": [
    {
     "data": {
      "text/plain": [
       "[(2, 'Even'),\n",
       " (29, 'Odd'),\n",
       " (14, 'Even'),\n",
       " (26, 'Even'),\n",
       " (98, 'Even'),\n",
       " (31, 'Odd'),\n",
       " (89, 'Odd')]"
      ]
     },
     "execution_count": 6,
     "metadata": {},
     "output_type": "execute_result"
    }
   ],
   "source": [
    "# Now will find even or odd using lambda function (using conditional statement in lambda fuction)\n",
    "num = [2,29,14,26,98,31,89]\n",
    "list(map(lambda x:(x,'Even') if x%2==0 else (x,'Odd'), num))"
   ]
  },
  {
   "cell_type": "code",
   "execution_count": 10,
   "id": "984e03f1",
   "metadata": {},
   "outputs": [
    {
     "data": {
      "text/plain": [
       "['JEEVAN', 'RAHUL', 'SAM', 'SHRAVANI']"
      ]
     },
     "execution_count": 10,
     "metadata": {},
     "output_type": "execute_result"
    }
   ],
   "source": [
    "# Now will make a list of words in capital letter\n",
    "Names = ['Jeevan','Rahul','Sam','Shravani']\n",
    "cap_output=list(map(lambda x: x.upper(),Names))\n",
    "cap_output"
   ]
  },
  {
   "cell_type": "markdown",
   "id": "92a80cfd",
   "metadata": {},
   "source": [
    "### Sorting with lambda function\n",
    "Sorting can be done in 2 types\n",
    "1. sort will directly affect the original list\n",
    "2. sorted sort the list but it does not affect the original list you can save to the different variable"
   ]
  },
  {
   "cell_type": "code",
   "execution_count": 22,
   "id": "1cfa3762",
   "metadata": {},
   "outputs": [],
   "source": [
    "student_details = [('raju',90),('varun',89),('akash',70),('lokesh',92),('amrutha',45),('chandana',80),('mita',50)]"
   ]
  },
  {
   "cell_type": "code",
   "execution_count": 51,
   "id": "ccfd04e8",
   "metadata": {},
   "outputs": [
    {
     "data": {
      "text/plain": [
       "[('varun', 89),\n",
       " ('raju', 90),\n",
       " ('mita', 50),\n",
       " ('lokesh', 92),\n",
       " ('chandana', 80),\n",
       " ('amrutha', 45),\n",
       " ('akash', 70)]"
      ]
     },
     "execution_count": 51,
     "metadata": {},
     "output_type": "execute_result"
    }
   ],
   "source": [
    "sorted(student_details,key= lambda x:x[0] ,reverse=True)"
   ]
  },
  {
   "cell_type": "code",
   "execution_count": 25,
   "id": "f59d33a9",
   "metadata": {
    "scrolled": false
   },
   "outputs": [
    {
     "data": {
      "text/plain": [
       "[('akash', 70),\n",
       " ('amrutha', 45),\n",
       " ('chandana', 80),\n",
       " ('lokesh', 92),\n",
       " ('mita', 50),\n",
       " ('raju', 90),\n",
       " ('varun', 89)]"
      ]
     },
     "execution_count": 25,
     "metadata": {},
     "output_type": "execute_result"
    }
   ],
   "source": [
    "# Now will perform sorted to sort the values\n",
    "sorted(student_details)"
   ]
  },
  {
   "cell_type": "code",
   "execution_count": 26,
   "id": "46648de2",
   "metadata": {
    "scrolled": true
   },
   "outputs": [
    {
     "data": {
      "text/plain": [
       "[('raju', 90),\n",
       " ('varun', 89),\n",
       " ('akash', 70),\n",
       " ('lokesh', 92),\n",
       " ('amrutha', 45),\n",
       " ('chandana', 80),\n",
       " ('mita', 50)]"
      ]
     },
     "execution_count": 26,
     "metadata": {},
     "output_type": "execute_result"
    }
   ],
   "source": [
    "# Note you can see it is not affecting the original list\n",
    "student_details"
   ]
  },
  {
   "cell_type": "code",
   "execution_count": 27,
   "id": "246b4c62",
   "metadata": {},
   "outputs": [],
   "source": [
    "# Now will perform using sort function\n",
    "student_details.sort()"
   ]
  },
  {
   "cell_type": "code",
   "execution_count": 28,
   "id": "55f92695",
   "metadata": {},
   "outputs": [
    {
     "data": {
      "text/plain": [
       "[('akash', 70),\n",
       " ('amrutha', 45),\n",
       " ('chandana', 80),\n",
       " ('lokesh', 92),\n",
       " ('mita', 50),\n",
       " ('raju', 90),\n",
       " ('varun', 89)]"
      ]
     },
     "execution_count": 28,
     "metadata": {},
     "output_type": "execute_result"
    }
   ],
   "source": [
    "# Now you can see the original list got affected \n",
    "student_details"
   ]
  },
  {
   "cell_type": "code",
   "execution_count": 29,
   "id": "668d7b77",
   "metadata": {},
   "outputs": [
    {
     "data": {
      "text/plain": [
       "[('amrutha', 45),\n",
       " ('mita', 50),\n",
       " ('akash', 70),\n",
       " ('chandana', 80),\n",
       " ('varun', 89),\n",
       " ('raju', 90),\n",
       " ('lokesh', 92)]"
      ]
     },
     "execution_count": 29,
     "metadata": {},
     "output_type": "execute_result"
    }
   ],
   "source": [
    "# Now i want to sort based on student marks not by names so will use lambda function to perform the operation\n",
    "sorted(student_details,key=lambda x:x[1])\n"
   ]
  },
  {
   "cell_type": "code",
   "execution_count": 58,
   "id": "28006d88",
   "metadata": {},
   "outputs": [
    {
     "data": {
      "text/plain": [
       "[('lokesh', 92),\n",
       " ('raju', 90),\n",
       " ('varun', 89),\n",
       " ('chandana', 80),\n",
       " ('akash', 70),\n",
       " ('mita', 50),\n",
       " ('amrutha', 45)]"
      ]
     },
     "execution_count": 58,
     "metadata": {},
     "output_type": "execute_result"
    }
   ],
   "source": [
    "# Now if you want to sort the marks based on higest to lowest use reverse = True, By default it is false\n",
    "Top_students_details = sorted(student_details,key=lambda x:x[1],reverse=True)\n",
    "Top_students_details"
   ]
  },
  {
   "cell_type": "markdown",
   "id": "2d36570b",
   "metadata": {},
   "source": [
    "### Now will understand Filter in Lambda Function\n",
    "filter out all the elements of a sequence"
   ]
  },
  {
   "cell_type": "markdown",
   "id": "b6348f54",
   "metadata": {},
   "source": [
    "### Syntax\n",
    "\n",
    "### filter(function,iterable)"
   ]
  },
  {
   "cell_type": "markdown",
   "id": "d765f510",
   "metadata": {},
   "source": [
    "### Example 1:"
   ]
  },
  {
   "cell_type": "code",
   "execution_count": 64,
   "id": "230ff773",
   "metadata": {
    "scrolled": true
   },
   "outputs": [
    {
     "data": {
      "text/plain": [
       "[2,\n",
       " 4,\n",
       " 6,\n",
       " 8,\n",
       " 10,\n",
       " 12,\n",
       " 14,\n",
       " 16,\n",
       " 18,\n",
       " 20,\n",
       " 22,\n",
       " 24,\n",
       " 26,\n",
       " 28,\n",
       " 30,\n",
       " 32,\n",
       " 34,\n",
       " 36,\n",
       " 38,\n",
       " 40,\n",
       " 42,\n",
       " 44,\n",
       " 46,\n",
       " 48,\n",
       " 50,\n",
       " 52,\n",
       " 54,\n",
       " 56,\n",
       " 58,\n",
       " 60,\n",
       " 62,\n",
       " 64,\n",
       " 66,\n",
       " 68,\n",
       " 70,\n",
       " 72,\n",
       " 74,\n",
       " 76,\n",
       " 78,\n",
       " 80,\n",
       " 82,\n",
       " 84,\n",
       " 86,\n",
       " 88,\n",
       " 90,\n",
       " 92,\n",
       " 94,\n",
       " 96,\n",
       " 98]"
      ]
     },
     "execution_count": 64,
     "metadata": {},
     "output_type": "execute_result"
    }
   ],
   "source": [
    "#list(range(2,100,2))\n",
    "# [i  for i in range(1,100) if i%2==0]\n",
    "\n",
    "even = []\n",
    "for i in range(1,100):\n",
    "    if i%2==0:\n",
    "        even.append(i)\n",
    "even\n",
    "\n",
    "lis = list(range(2,100))\n",
    "\n",
    "list(filter(lambda x:x%2==0,lis))"
   ]
  },
  {
   "cell_type": "code",
   "execution_count": 31,
   "id": "45a9e445",
   "metadata": {},
   "outputs": [
    {
     "name": "stdout",
     "output_type": "stream",
     "text": [
      "even = [56, 24, 66, 4, 54, 34]\n",
      "odd = [1, 23, 7, 3, 67]\n",
      "square = [1, 529, 3136, 49, 9, 576, 4356, 16, 4489, 2916, 1156]\n"
     ]
    }
   ],
   "source": [
    "# Now will find only even numbers using filters\n",
    "lis=[1,23,56,7,3,24,66,4,67,54,34]\n",
    "square = list(map(lambda x:x**2,lis))\n",
    "even = list(filter(lambda x:x%2==0,lis))\n",
    "odd = list(filter(lambda x:x%2!=0,lis))\n",
    "print('even =',even)\n",
    "print('odd =',odd)\n",
    "print('square =',square)"
   ]
  },
  {
   "cell_type": "markdown",
   "id": "0b1a1c65",
   "metadata": {},
   "source": [
    "### Example 2:"
   ]
  },
  {
   "cell_type": "code",
   "execution_count": 37,
   "id": "e1bfadcb",
   "metadata": {
    "scrolled": true
   },
   "outputs": [
    {
     "data": {
      "text/plain": [
       "[('akash', 70),\n",
       " ('amrutha', 45),\n",
       " ('chandana', 80),\n",
       " ('lokesh', 92),\n",
       " ('mita', 50),\n",
       " ('raju', 90),\n",
       " ('varun', 89)]"
      ]
     },
     "execution_count": 37,
     "metadata": {},
     "output_type": "execute_result"
    }
   ],
   "source": [
    "student_details"
   ]
  },
  {
   "cell_type": "code",
   "execution_count": 32,
   "id": "8bace96d",
   "metadata": {
    "scrolled": true
   },
   "outputs": [
    {
     "data": {
      "text/plain": [
       "[('akash', 70), ('chandana', 80), ('lokesh', 92), ('raju', 90), ('varun', 89)]"
      ]
     },
     "execution_count": 32,
     "metadata": {},
     "output_type": "execute_result"
    }
   ],
   "source": [
    "# Now if we want to print only passed student which is greater than 60 marks \n",
    "passed_student = list(filter(lambda x: x[1]>60,student_details))\n",
    "passed_student"
   ]
  },
  {
   "cell_type": "markdown",
   "id": "59d9f3c2",
   "metadata": {},
   "source": [
    "### Reduce Function\n",
    "Reduce returns a single output value from a sequence data structure because it reduces the elements by applying a given function it is used to perform some aggregate function"
   ]
  },
  {
   "cell_type": "markdown",
   "id": "f709826a",
   "metadata": {},
   "source": [
    "Syntax:-           \n",
    "reduce(function, iterable)"
   ]
  },
  {
   "cell_type": "code",
   "execution_count": 12,
   "id": "92b3be45",
   "metadata": {},
   "outputs": [],
   "source": [
    "from functools import reduce            # Always if you want to use Reduce function you want to import reduce from functools library "
   ]
  },
  {
   "cell_type": "code",
   "execution_count": 35,
   "id": "b5870ed6",
   "metadata": {},
   "outputs": [],
   "source": [
    "nums = [1,2,3,4,5,6,7,8,9,12,19,10]"
   ]
  },
  {
   "cell_type": "code",
   "execution_count": 33,
   "id": "ad7ba6e3",
   "metadata": {},
   "outputs": [
    {
     "data": {
      "text/plain": [
       "86"
      ]
     },
     "execution_count": 33,
     "metadata": {},
     "output_type": "execute_result"
    }
   ],
   "source": [
    "summed_up = reduce(lambda x,y:x+y,nums)\n",
    "summed_up"
   ]
  },
  {
   "cell_type": "code",
   "execution_count": 8,
   "id": "129fafc0",
   "metadata": {},
   "outputs": [
    {
     "data": {
      "text/plain": [
       "19"
      ]
     },
     "execution_count": 8,
     "metadata": {},
     "output_type": "execute_result"
    }
   ],
   "source": [
    "# Now to find the max values from the list \n",
    "max_values = reduce(lambda x,y: x if x>y else y,nums)\n",
    "max_values"
   ]
  },
  {
   "cell_type": "code",
   "execution_count": 9,
   "id": "f0d3a684",
   "metadata": {},
   "outputs": [
    {
     "data": {
      "text/plain": [
       "1"
      ]
     },
     "execution_count": 9,
     "metadata": {},
     "output_type": "execute_result"
    }
   ],
   "source": [
    "# Now to find the min values from the list \n",
    "min_values = reduce(lambda x,y: x if x<y else y,nums)\n",
    "min_values"
   ]
  }
 ],
 "metadata": {
  "kernelspec": {
   "display_name": "Python 3 (ipykernel)",
   "language": "python",
   "name": "python3"
  },
  "language_info": {
   "codemirror_mode": {
    "name": "ipython",
    "version": 3
   },
   "file_extension": ".py",
   "mimetype": "text/x-python",
   "name": "python",
   "nbconvert_exporter": "python",
   "pygments_lexer": "ipython3",
   "version": "3.11.5"
  }
 },
 "nbformat": 4,
 "nbformat_minor": 5
}
