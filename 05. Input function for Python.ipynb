{
 "cells": [
  {
   "cell_type": "code",
   "execution_count": 1,
   "metadata": {},
   "outputs": [
    {
     "name": "stdout",
     "output_type": "stream",
     "text": [
      "enter the nameKiran\n",
      "enter the salary75000\n",
      "enter the company nameNTT Data service\n",
      "name: Kiran \n",
      "salary: 75000.0 \n",
      "company: NTT Data service\n"
     ]
    }
   ],
   "source": [
    "name,salary,company=input(\"enter the name\"),float(input(\"enter the salary\")),input(\"enter the company name\")\n",
    "print(\"name:\",name,\"\\nsalary:\",salary,\"\\ncompany:\",company)"
   ]
  },
  {
   "cell_type": "code",
   "execution_count": 2,
   "metadata": {
    "scrolled": true
   },
   "outputs": [
    {
     "name": "stdout",
     "output_type": "stream",
     "text": [
      "enter the value of int23\n",
      "enter the value of float23.46\n",
      "46.46\n",
      "<class 'float'>\n"
     ]
    }
   ],
   "source": [
    "a=int(input(\"enter the value of int\"))\n",
    "b=float(input(\"enter the value of float\"))\n",
    "sum=a+b\n",
    "print(sum)\n",
    "print(type(sum))"
   ]
  },
  {
   "cell_type": "markdown",
   "metadata": {},
   "source": [
    "using split function    \n",
    "syntax=.split()"
   ]
  },
  {
   "cell_type": "code",
   "execution_count": 3,
   "metadata": {
    "scrolled": true
   },
   "outputs": [
    {
     "name": "stdout",
     "output_type": "stream",
     "text": [
      "enter the name,enter the age,enter the markskiran/26/100\n",
      "name: kiran \n",
      "age: 26 \n",
      "marks: 100\n"
     ]
    }
   ],
   "source": [
    "name,age,marks=input(\"enter the name,enter the age,enter the marks\").split(\"/\")\n",
    "print(\"name:\",name,\"\\nage:\",age,\"\\nmarks:\",marks)"
   ]
  },
  {
   "cell_type": "code",
   "execution_count": 4,
   "metadata": {},
   "outputs": [
    {
     "data": {
      "text/plain": [
       "str"
      ]
     },
     "execution_count": 4,
     "metadata": {},
     "output_type": "execute_result"
    }
   ],
   "source": [
    "type(age)"
   ]
  },
  {
   "cell_type": "code",
   "execution_count": null,
   "metadata": {},
   "outputs": [],
   "source": []
  }
 ],
 "metadata": {
  "kernelspec": {
   "display_name": "Python 3 (ipykernel)",
   "language": "python",
   "name": "python3"
  },
  "language_info": {
   "codemirror_mode": {
    "name": "ipython",
    "version": 3
   },
   "file_extension": ".py",
   "mimetype": "text/x-python",
   "name": "python",
   "nbconvert_exporter": "python",
   "pygments_lexer": "ipython3",
   "version": "3.11.5"
  }
 },
 "nbformat": 4,
 "nbformat_minor": 4
}
