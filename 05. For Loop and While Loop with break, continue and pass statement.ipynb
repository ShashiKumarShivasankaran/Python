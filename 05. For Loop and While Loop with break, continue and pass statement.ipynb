{
 "cells": [
  {
   "cell_type": "markdown",
   "metadata": {},
   "source": [
    "### For Loop:-\n",
    "A for loop is a control flow statement that executes code for a predefined number of iterations. The keyword used in this control flow statement is “for”. When the number of iterations is already known, the for loop is used."
   ]
  },
  {
   "cell_type": "raw",
   "metadata": {},
   "source": [
    "Here's the general format for a for loop in Python:\n",
    "\n",
    "for item in object:\n",
    "    statements to do stuff"
   ]
  },
  {
   "cell_type": "markdown",
   "metadata": {},
   "source": [
    "## Looping through a list"
   ]
  },
  {
   "cell_type": "code",
   "execution_count": 15,
   "metadata": {},
   "outputs": [
    {
     "name": "stdout",
     "output_type": "stream",
     "text": [
      "2 4 6 8 10 12 14 16 18 20 22 24 26 28 30 32 34 36 38 40 42 44 46 48 50 52 54 56 58 60 62 64 66 68 70 72 74 76 78 80 82 84 86 88 90 92 94 96 98 100 "
     ]
    }
   ],
   "source": [
    "for i in range(2,101):\n",
    "    if i%2 ==0:\n",
    "        print(i,end=' ')"
   ]
  },
  {
   "cell_type": "code",
   "execution_count": 22,
   "metadata": {
    "scrolled": true
   },
   "outputs": [
    {
     "name": "stdout",
     "output_type": "stream",
     "text": [
      "23\n",
      "44\n",
      "45\n",
      "42\n",
      "24\n",
      "42\n",
      "45\n"
     ]
    }
   ],
   "source": [
    "a = [23,44,45,85,42,24,77,42,45,90]\n",
    "\n",
    "for i in a:\n",
    "    if i>50:\n",
    "        continue\n",
    "    print(i)"
   ]
  },
  {
   "cell_type": "code",
   "execution_count": 26,
   "metadata": {},
   "outputs": [],
   "source": [
    "def prime(start,end):\n",
    "    for i in range(start,end):\n",
    "        if i > 1:\n",
    "            for j in range(2,i):\n",
    "                if i%j==0:\n",
    "                    break\n",
    "            else:\n",
    "                print(i)"
   ]
  },
  {
   "cell_type": "markdown",
   "metadata": {},
   "source": [
    "prime(2,30)"
   ]
  },
  {
   "cell_type": "code",
   "execution_count": null,
   "metadata": {},
   "outputs": [],
   "source": []
  },
  {
   "cell_type": "code",
   "execution_count": null,
   "metadata": {},
   "outputs": [],
   "source": []
  },
  {
   "cell_type": "code",
   "execution_count": 20,
   "metadata": {},
   "outputs": [
    {
     "name": "stdout",
     "output_type": "stream",
     "text": [
      "2\n",
      "3\n",
      "5\n",
      "7\n",
      "11\n",
      "13\n",
      "17\n",
      "19\n",
      "23\n",
      "29\n",
      "31\n",
      "37\n",
      "41\n",
      "43\n",
      "47\n"
     ]
    }
   ],
   "source": [
    "for i in range(1,50):\n",
    "    if i>1:\n",
    "        for j in range(2,i):\n",
    "            if i%j==0:\n",
    "                break\n",
    "        else:\n",
    "             print(i)"
   ]
  },
  {
   "cell_type": "code",
   "execution_count": null,
   "metadata": {},
   "outputs": [],
   "source": []
  },
  {
   "cell_type": "code",
   "execution_count": 18,
   "metadata": {},
   "outputs": [
    {
     "name": "stdout",
     "output_type": "stream",
     "text": [
      "Even Numbers =  [4, 56, 42]\n",
      "Odd Numbers = [23, 21, 7, 29]\n"
     ]
    }
   ],
   "source": [
    "a = [23,4,21,56,42,7,29]\n",
    "even = []\n",
    "odd = []\n",
    "for i in a:\n",
    "    if i%2 !=0:\n",
    "        odd.append(i)\n",
    "    else:\n",
    "        even.append(i)\n",
    "        \n",
    "print('Even Numbers = ',even)\n",
    "print('Odd Numbers =',odd)"
   ]
  },
  {
   "cell_type": "code",
   "execution_count": 5,
   "metadata": {
    "scrolled": true
   },
   "outputs": [
    {
     "name": "stdout",
     "output_type": "stream",
     "text": [
      "1\n",
      "2\n",
      "3\n",
      "4\n",
      "5\n"
     ]
    }
   ],
   "source": [
    "# Will use for loop to print the each element for each iteration\n",
    "data=[1,2,3,4,5]\n",
    "for i in data:\n",
    "    print(i)"
   ]
  },
  {
   "cell_type": "code",
   "execution_count": 7,
   "metadata": {
    "scrolled": true
   },
   "outputs": [
    {
     "name": "stdout",
     "output_type": "stream",
     "text": [
      "Odd = [1, 3, 5, 7, 9, 11, 13, 15, 17, 19, 21, 23]\n",
      "Even = [0, 2, 4, 6, 8, 10, 12, 14, 16, 18, 20, 22, 24]\n"
     ]
    }
   ],
   "source": [
    "print('Odd =',odd)\n",
    "print('Even =',even)"
   ]
  },
  {
   "cell_type": "code",
   "execution_count": 29,
   "metadata": {},
   "outputs": [
    {
     "name": "stdout",
     "output_type": "stream",
     "text": [
      "[0, 2, 4, 6, 8, 10, 12, 14, 16, 18, 20, 22, 24]\n"
     ]
    }
   ],
   "source": [
    "even=list(range(0,25,2))     \n",
    "print(even)"
   ]
  },
  {
   "cell_type": "code",
   "execution_count": 9,
   "metadata": {},
   "outputs": [
    {
     "name": "stdout",
     "output_type": "stream",
     "text": [
      "[1, 3, 5, 7, 9, 11, 13, 15, 17, 19, 21, 23]\n"
     ]
    }
   ],
   "source": [
    "odd = list(range(1,25,2))\n",
    "print(odd)"
   ]
  },
  {
   "cell_type": "code",
   "execution_count": 6,
   "metadata": {},
   "outputs": [],
   "source": [
    "odd=[]\n",
    "even=[]\n",
    "\n",
    "for i in range(25):\n",
    "    if i%2==0:\n",
    "        even.append(i)\n",
    "    else:\n",
    "        odd.append(i)"
   ]
  },
  {
   "cell_type": "code",
   "execution_count": 8,
   "metadata": {},
   "outputs": [
    {
     "name": "stdout",
     "output_type": "stream",
     "text": [
      "[0, 2, 4, 6, 8, 10, 12, 14, 16, 18, 20, 22, 24]\n"
     ]
    }
   ],
   "source": [
    "# List comprehension\n",
    "even=[i for i in range(25)  if i%2==0]\n",
    "print(even)"
   ]
  },
  {
   "cell_type": "code",
   "execution_count": 3,
   "metadata": {
    "scrolled": true
   },
   "outputs": [
    {
     "name": "stdout",
     "output_type": "stream",
     "text": [
      "1\n",
      "2\n",
      "3\n",
      "4\n",
      "5\n"
     ]
    }
   ],
   "source": [
    "# or the same code can be writen like this\n",
    "\n",
    "for i in [1,2,3,4,5]:\n",
    "    print(i)"
   ]
  },
  {
   "cell_type": "markdown",
   "metadata": {},
   "source": [
    "## Looping through a string"
   ]
  },
  {
   "cell_type": "code",
   "execution_count": 38,
   "metadata": {
    "scrolled": true
   },
   "outputs": [
    {
     "name": "stdout",
     "output_type": "stream",
     "text": [
      "F\n",
      "e\n",
      "a\n",
      "r\n",
      " \n",
      "h\n",
      "a\n",
      "s\n",
      " \n",
      "2\n",
      " \n",
      "m\n",
      "e\n",
      "a\n",
      "n\n",
      "i\n",
      "n\n",
      "g\n",
      ",\n",
      " \n",
      "f\n",
      "o\n",
      "r\n",
      "g\n",
      "e\n",
      "t\n",
      " \n",
      "e\n",
      "v\n",
      "e\n",
      "r\n",
      "y\n",
      "t\n",
      "h\n",
      "i\n",
      "n\n",
      "g\n",
      " \n",
      "a\n",
      "n\n",
      "d\n",
      " \n",
      "r\n",
      "u\n",
      "n\n",
      ",\n",
      " \n",
      "f\n",
      "a\n",
      "c\n",
      "e\n",
      " \n",
      "e\n",
      "v\n",
      "e\n",
      "r\n",
      "y\n",
      "t\n",
      "h\n",
      "i\n",
      "n\n",
      "g\n",
      " \n",
      "a\n",
      "n\n",
      "d\n",
      " \n",
      "r\n",
      "a\n",
      "i\n",
      "s\n",
      "e\n"
     ]
    }
   ],
   "source": [
    "txt='Fear has 2 meaning, forget everything and run, face everything and raise'\n",
    "\n",
    "for i in txt:      # if iterate through each and every char because string is a sequence(you can use split to get each words) \n",
    "    print(i)"
   ]
  },
  {
   "cell_type": "code",
   "execution_count": 5,
   "metadata": {},
   "outputs": [
    {
     "name": "stdout",
     "output_type": "stream",
     "text": [
      "Fear\n",
      "has\n",
      "2\n",
      "meaning,\n",
      "forget\n",
      "everything\n",
      "and\n",
      "run,\n",
      "face\n",
      "everything\n",
      "and\n",
      "raise\n"
     ]
    }
   ],
   "source": [
    "for i in txt.split():\n",
    "    print(i)"
   ]
  },
  {
   "cell_type": "code",
   "execution_count": 6,
   "metadata": {},
   "outputs": [
    {
     "name": "stdout",
     "output_type": "stream",
     "text": [
      "Fear has 2 meaning\n",
      " forget everything and run\n",
      " face everything and raise\n"
     ]
    }
   ],
   "source": [
    "for i in txt.split(','):\n",
    "    print(i)"
   ]
  },
  {
   "cell_type": "markdown",
   "metadata": {},
   "source": [
    "### The range() Function\n",
    "\n",
    "The range() function returns a sequence of numbers, starting from 0 by default, and increments by 1 (by default), and ends at a specified number."
   ]
  },
  {
   "cell_type": "code",
   "execution_count": 7,
   "metadata": {},
   "outputs": [
    {
     "name": "stdout",
     "output_type": "stream",
     "text": [
      "0\n",
      "1\n",
      "2\n",
      "3\n",
      "4\n",
      "5\n"
     ]
    }
   ],
   "source": [
    "for i in range(6):    # Note that range(6) is not the values of 0 to 6, but the values 0 to 5.\n",
    "    print(i)"
   ]
  },
  {
   "cell_type": "markdown",
   "metadata": {},
   "source": [
    "The range() function defaults to increment the sequence by 1, however it is possible to specify the increment value by adding a third parameter: range(start,stop,step):  \n",
    "-->By default the step size =1"
   ]
  },
  {
   "cell_type": "code",
   "execution_count": 9,
   "metadata": {
    "scrolled": true
   },
   "outputs": [
    {
     "name": "stdout",
     "output_type": "stream",
     "text": [
      "2\n",
      "4\n",
      "6\n",
      "8\n",
      "10\n",
      "12\n",
      "14\n",
      "16\n",
      "18\n",
      "20\n"
     ]
    }
   ],
   "source": [
    "# Will print even numbers from 1,20\n",
    "for i in range(2,21,2):\n",
    "    print(i)"
   ]
  },
  {
   "cell_type": "code",
   "execution_count": 14,
   "metadata": {},
   "outputs": [
    {
     "name": "stdout",
     "output_type": "stream",
     "text": [
      "2\n",
      "4\n",
      "6\n",
      "8\n",
      "10\n",
      "12\n",
      "14\n",
      "16\n",
      "18\n",
      "20\n"
     ]
    }
   ],
   "source": [
    "# You can use if statement in loop\n",
    "for i in range(2,21):\n",
    "    if i%2==0:\n",
    "        print(i)"
   ]
  },
  {
   "cell_type": "code",
   "execution_count": 42,
   "metadata": {},
   "outputs": [
    {
     "name": "stdout",
     "output_type": "stream",
     "text": [
      "2\n",
      "4\n",
      "6\n",
      "8\n",
      "10\n",
      "12\n",
      "14\n",
      "16\n",
      "18\n",
      "20\n",
      "Yes i learnt how to print even numbers\n"
     ]
    }
   ],
   "source": [
    "# You can use if statement in loop\n",
    "for i in range(2,21):\n",
    "    if i%2==0:\n",
    "        print(i)\n",
    "print('Yes i learnt how to print even numbers')"
   ]
  },
  {
   "cell_type": "markdown",
   "metadata": {},
   "source": [
    "### Nested Loops\n",
    "Nested loop is a loop inside a loop          \n",
    "The inner loop will be executed one time for each iteration of the outer loop"
   ]
  },
  {
   "cell_type": "code",
   "execution_count": 43,
   "metadata": {},
   "outputs": [
    {
     "name": "stdout",
     "output_type": "stream",
     "text": [
      "Name , Subjects\n",
      "Jeevan ---> Mysql\n",
      "Jeevan ---> Python\n",
      "Jeevan ---> Stats\n",
      "i am going for outer loop\n",
      "Jagruti ---> Mysql\n",
      "Jagruti ---> Python\n",
      "Jagruti ---> Stats\n",
      "i am going for outer loop\n",
      "Neha ---> Mysql\n",
      "Neha ---> Python\n",
      "Neha ---> Stats\n",
      "i am going for outer loop\n",
      "Chandana ---> Mysql\n",
      "Chandana ---> Python\n",
      "Chandana ---> Stats\n",
      "i am going for outer loop\n"
     ]
    }
   ],
   "source": [
    "name = ['Jeevan','Jagruti','Neha','Chandana']\n",
    "subjects= ['Mysql','Python','Stats']\n",
    "print('Name , Subjects')\n",
    "for i in name:\n",
    "    for j in subjects:\n",
    "        print(i,'--->',j)\n",
    "    print('i am going for outer loop')"
   ]
  },
  {
   "cell_type": "code",
   "execution_count": 43,
   "metadata": {},
   "outputs": [
    {
     "data": {
      "text/plain": [
       "[('Jeevan', 'Mysql'), ('Jagruti', 'Python'), ('Neha', 'Stats')]"
      ]
     },
     "execution_count": 43,
     "metadata": {},
     "output_type": "execute_result"
    }
   ],
   "source": [
    "list(zip(name,subjects))"
   ]
  },
  {
   "cell_type": "markdown",
   "metadata": {},
   "source": [
    "### Break Statement\n",
    "\n",
    "With the break statement we can stop the loop before it has looped through all the items:"
   ]
  },
  {
   "cell_type": "code",
   "execution_count": 50,
   "metadata": {},
   "outputs": [
    {
     "name": "stdout",
     "output_type": "stream",
     "text": [
      "current number: 20\n",
      "current number: 60\n",
      "current number: 90\n"
     ]
    }
   ],
   "source": [
    "number=[20,60,90,120,180,30]\n",
    "for i in number:\n",
    "    if i >100:\n",
    "        break\n",
    "    print(\"current number:\",i)\n",
    "    "
   ]
  },
  {
   "cell_type": "markdown",
   "metadata": {},
   "source": [
    "### Break in Nested Loop"
   ]
  },
  {
   "cell_type": "code",
   "execution_count": 46,
   "metadata": {},
   "outputs": [
    {
     "name": "stdout",
     "output_type": "stream",
     "text": [
      "Multiplication table of  1\n",
      "1 2 3 4 5 6 7 8 9 10 \n",
      "Multiplication table of  2\n",
      "2 4 6 8 10 12 14 16 18 20 \n",
      "Multiplication table of  3\n",
      "3 6 9 12 15 18 21 24 27 30 \n",
      "Multiplication table of  4\n",
      "4 8 12 16 20 24 28 32 36 40 \n",
      "Multiplication table of  5\n",
      "5 10 15 20 25 30 35 40 45 50 \n"
     ]
    }
   ],
   "source": [
    "for i in range(1,11):\n",
    "    if i>5:\n",
    "        break\n",
    "    print('Multiplication table of ',i)\n",
    "    for j in range(1,11):\n",
    "        print(i*j,end=' ')\n",
    "    print()"
   ]
  },
  {
   "cell_type": "code",
   "execution_count": 24,
   "metadata": {
    "scrolled": true
   },
   "outputs": [
    {
     "name": "stdout",
     "output_type": "stream",
     "text": [
      "2\n",
      "3\n",
      "5\n",
      "7\n",
      "11\n",
      "13\n",
      "17\n",
      "19\n",
      "23\n",
      "29\n",
      "31\n",
      "37\n",
      "41\n",
      "43\n",
      "47\n",
      "53\n",
      "59\n",
      "61\n",
      "67\n",
      "71\n",
      "73\n",
      "79\n",
      "83\n",
      "89\n",
      "97\n"
     ]
    }
   ],
   "source": [
    "# Now will try to pring Prime number from 1 to 100\n",
    "##  Prime Number is nothing but the number is divisible by 1 and itself\n",
    "\n",
    "start=1\n",
    "end=101\n",
    "\n",
    "for i in range(start,end):\n",
    "    if i>1:\n",
    "        for j in range(2,i):\n",
    "            if i%j==0:\n",
    "                break \n",
    "        else:\n",
    "            print(i)"
   ]
  },
  {
   "cell_type": "code",
   "execution_count": 25,
   "metadata": {},
   "outputs": [
    {
     "name": "stdout",
     "output_type": "stream",
     "text": [
      "Enter the number5\n",
      "120\n"
     ]
    }
   ],
   "source": [
    "# Factorial \n",
    "factorial=int(input('Enter the number'))\n",
    "output=1\n",
    "for i in range(factorial,0,-1):\n",
    "    output*=i\n",
    "print(output)"
   ]
  },
  {
   "cell_type": "raw",
   "metadata": {},
   "source": [
    "The Fibonacci numbers are the numbers in the following integer sequence.\n",
    "0, 1, 1, 2, 3, 5, 8, 13, 21, 34, 55, 89, 144, ……..\n",
    "In mathematical terms, the sequence Fn of Fibonacci numbers is defined by the recurrence relation \n",
    "\n",
    "    Fn = Fn-1 + Fn-2\n",
    "with seed values  \n",
    "\n",
    "   F0 = 0 and F1 = 1."
   ]
  },
  {
   "cell_type": "code",
   "execution_count": 28,
   "metadata": {},
   "outputs": [
    {
     "name": "stdout",
     "output_type": "stream",
     "text": [
      "Enter the number10\n",
      "0\n",
      "1\n",
      "1\n",
      "2\n",
      "3\n",
      "5\n",
      "8\n",
      "13\n",
      "21\n",
      "34\n"
     ]
    }
   ],
   "source": [
    "# Fibonacci Series\n",
    "\n",
    "fibonacci=int(input('Enter the number'))\n",
    "a=0\n",
    "b=1\n",
    "print(a)\n",
    "print(b)\n",
    "for i in range(fibonacci-2):\n",
    "    c=a+b\n",
    "    a=b\n",
    "    b=c\n",
    "    print(c)"
   ]
  },
  {
   "cell_type": "markdown",
   "metadata": {},
   "source": [
    "# Continue Statement in Python\n",
    "\n",
    "The continue statement skip the current iteration and move to the next iteration."
   ]
  },
  {
   "cell_type": "code",
   "execution_count": 48,
   "metadata": {},
   "outputs": [
    {
     "name": "stdout",
     "output_type": "stream",
     "text": [
      "0\n",
      "1\n",
      "3\n",
      "4\n",
      "5\n",
      "6\n",
      "7\n",
      "8\n",
      "9\n"
     ]
    }
   ],
   "source": [
    "# if i want to print only odd number\n",
    "for i in range(10):\n",
    "    if i==2:\n",
    "        continue\n",
    "    else:\n",
    "        print(i)"
   ]
  },
  {
   "cell_type": "code",
   "execution_count": 52,
   "metadata": {},
   "outputs": [
    {
     "name": "stdout",
     "output_type": "stream",
     "text": [
      "current number is: 2\n",
      "square of the number: 4\n",
      "current number is: 3\n",
      "square of the number: 9\n",
      "current number is: 11\n",
      "current number is: 727\n",
      "current number is: 7\n",
      "square of the number: 49\n"
     ]
    }
   ],
   "source": [
    "number=[2,3,11,727,7]\n",
    "for i in number:\n",
    "    print(\"current number is:\",i)\n",
    "    if i>10:\n",
    "        continue\n",
    "        \n",
    "    print(\"square of the number:\",i**2)"
   ]
  },
  {
   "cell_type": "markdown",
   "metadata": {},
   "source": [
    "# Pass statement in python "
   ]
  },
  {
   "cell_type": "markdown",
   "metadata": {},
   "source": [
    "A pass statement is a python null statement"
   ]
  },
  {
   "cell_type": "code",
   "execution_count": 1,
   "metadata": {},
   "outputs": [],
   "source": [
    "for i in range(10):\n",
    "    if i%2==0:\n",
    "        pass"
   ]
  },
  {
   "cell_type": "code",
   "execution_count": 64,
   "metadata": {
    "scrolled": true
   },
   "outputs": [
    {
     "name": "stdout",
     "output_type": "stream",
     "text": [
      "0\n",
      "1\n",
      "2\n",
      "4\n",
      "5\n",
      "6\n",
      "7\n",
      "8\n",
      "9\n"
     ]
    }
   ],
   "source": [
    "# if i want to skip 3 we can use pass statement (it is null statement)\n",
    "for i in range(10):\n",
    "    if i==3:\n",
    "        pass\n",
    "    else:\n",
    "        print(i)"
   ]
  },
  {
   "cell_type": "markdown",
   "metadata": {},
   "source": [
    "### While Loop\n",
    "A loop that runs a single statement or a set of statements for a given true condition. This loop is represented by the keyword \"while.\" `When the number of iterations is unknown`, a \"while\" loop is used. The statement is repeated until the boolean value is false. Because the condition is tested at the beginning of a while loop"
   ]
  },
  {
   "cell_type": "code",
   "execution_count": 66,
   "metadata": {},
   "outputs": [
    {
     "name": "stdout",
     "output_type": "stream",
     "text": [
      "1\n",
      "2\n",
      "3\n",
      "4\n",
      "5\n"
     ]
    }
   ],
   "source": [
    "i=1\n",
    "while i<6:\n",
    "    print(i)\n",
    "    i+=1\n"
   ]
  },
  {
   "cell_type": "markdown",
   "metadata": {},
   "source": [
    "# break statement by using while loop \n",
    "if we found any space in the name stop the loop\n",
    "\n",
    "To find space use .isspace() inbuilt function"
   ]
  },
  {
   "cell_type": "code",
   "execution_count": 54,
   "metadata": {},
   "outputs": [
    {
     "data": {
      "text/plain": [
       "10"
      ]
     },
     "execution_count": 54,
     "metadata": {},
     "output_type": "execute_result"
    }
   ],
   "source": [
    "name=\"Jeevan Raj\"\n",
    "len(name)"
   ]
  },
  {
   "cell_type": "code",
   "execution_count": 3,
   "metadata": {},
   "outputs": [
    {
     "name": "stdout",
     "output_type": "stream",
     "text": [
      "Jeevan"
     ]
    }
   ],
   "source": [
    "name=\"Jeevan Raj\"\n",
    "i=0\n",
    "while i<len(name):\n",
    "    if name[i].isspace():\n",
    "        break\n",
    "    print(name[i],end=\"\")\n",
    "    i+=1"
   ]
  },
  {
   "cell_type": "markdown",
   "metadata": {},
   "source": [
    "# Continue Statement in Python\n",
    "\n",
    "The continue statement skip the current iteration and move to the next iteration."
   ]
  },
  {
   "cell_type": "code",
   "execution_count": 43,
   "metadata": {},
   "outputs": [
    {
     "name": "stdout",
     "output_type": "stream",
     "text": [
      "1\n",
      "2\n",
      "4\n",
      "5\n",
      "6\n"
     ]
    }
   ],
   "source": [
    "i=0\n",
    "while i<6:\n",
    "    i+=1\n",
    "    if i==3:\n",
    "        continue\n",
    "    print(i)"
   ]
  }
 ],
 "metadata": {
  "kernelspec": {
   "display_name": "Python 3 (ipykernel)",
   "language": "python",
   "name": "python3"
  },
  "language_info": {
   "codemirror_mode": {
    "name": "ipython",
    "version": 3
   },
   "file_extension": ".py",
   "mimetype": "text/x-python",
   "name": "python",
   "nbconvert_exporter": "python",
   "pygments_lexer": "ipython3",
   "version": "3.11.5"
  }
 },
 "nbformat": 4,
 "nbformat_minor": 4
}
