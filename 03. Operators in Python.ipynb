{
 "cells": [
  {
   "cell_type": "markdown",
   "id": "53ef5a69",
   "metadata": {},
   "source": [
    "### What is Operator?\n",
    "Ans: An operator is used to perform operations between two values or variables "
   ]
  },
  {
   "cell_type": "markdown",
   "id": "5039693e",
   "metadata": {},
   "source": [
    "### Different type of Operators in Python\n",
    "\n",
    "1. Arithmetic Operator\n",
    "2. Assignment Operator\n",
    "3. Comparison Operator (Relational Operator)\n",
    "4. Logical Operator\n",
    "5. Membership Operator\n",
    "6. Identity Operator\n",
    "7. Bitwise Operator"
   ]
  },
  {
   "cell_type": "markdown",
   "id": "299a5ddc",
   "metadata": {},
   "source": [
    "### Arithmetic Operator: Arithmetic operators are used to perform arithmetic operations between variables\n",
    "1. Addition (+)\n",
    "2. Subtraction (-)\n",
    "3. Multiplication (*)\n",
    "4. Division (/)\n",
    "5. Modulus (%)\n",
    "6. Exponentiation (**)\n",
    "7. Floor Division(//)"
   ]
  },
  {
   "cell_type": "code",
   "execution_count": 16,
   "id": "39410915",
   "metadata": {},
   "outputs": [
    {
     "name": "stdout",
     "output_type": "stream",
     "text": [
      "Addition = 14\n"
     ]
    }
   ],
   "source": [
    "# Addition\n",
    "\n",
    "x = 8\n",
    "y = 6\n",
    "print('Addition =',x+y)"
   ]
  },
  {
   "cell_type": "code",
   "execution_count": 2,
   "id": "3d941b8a",
   "metadata": {},
   "outputs": [
    {
     "name": "stdout",
     "output_type": "stream",
     "text": [
      "Subtraction = 2\n"
     ]
    }
   ],
   "source": [
    "# Subtraction \n",
    "print('Subtraction =',x-y)"
   ]
  },
  {
   "cell_type": "code",
   "execution_count": 3,
   "id": "c790b92f",
   "metadata": {},
   "outputs": [
    {
     "name": "stdout",
     "output_type": "stream",
     "text": [
      "Multiplication = 48\n"
     ]
    }
   ],
   "source": [
    "# Multiplication \n",
    "print('Multiplication =',x*y)"
   ]
  },
  {
   "cell_type": "code",
   "execution_count": 4,
   "id": "513bbd6a",
   "metadata": {},
   "outputs": [
    {
     "name": "stdout",
     "output_type": "stream",
     "text": [
      "Division = 1.3333333333333333\n"
     ]
    }
   ],
   "source": [
    "# Division                 # division will gives you the quotient\n",
    "print('Division =',x/y)"
   ]
  },
  {
   "cell_type": "code",
   "execution_count": 12,
   "id": "787c0d9a",
   "metadata": {},
   "outputs": [
    {
     "name": "stdout",
     "output_type": "stream",
     "text": [
      "Modulus = 2\n"
     ]
    }
   ],
   "source": [
    "# Modulus                 # modulus will gives you the reminder\n",
    "print('Modulus =',x%y)"
   ]
  },
  {
   "cell_type": "code",
   "execution_count": 5,
   "id": "72168f8c",
   "metadata": {},
   "outputs": [
    {
     "name": "stdout",
     "output_type": "stream",
     "text": [
      "Exponentation = 262144\n"
     ]
    }
   ],
   "source": [
    "# Exponentation\n",
    "print('Exponentation =',x**y)"
   ]
  },
  {
   "cell_type": "code",
   "execution_count": 16,
   "id": "7b0c61d9",
   "metadata": {},
   "outputs": [
    {
     "name": "stdout",
     "output_type": "stream",
     "text": [
      "Floor Division = 1\n"
     ]
    }
   ],
   "source": [
    "# Floor Division          # Divide first argument by the second and round the result down to the nearest whole number\n",
    "print('Floor Division =',x//y)"
   ]
  },
  {
   "cell_type": "markdown",
   "id": "ccbf91d4",
   "metadata": {},
   "source": [
    "### Assignment Operator : Assignment operators are used to assign values (This is a Short Hand Writting)\n",
    "\n",
    "1. =\n",
    "2. +=\n",
    "3. -=\n",
    "4. *=\n",
    "5. %=\n",
    "6. **=\n",
    "7. //="
   ]
  },
  {
   "cell_type": "code",
   "execution_count": 17,
   "id": "788efb81",
   "metadata": {},
   "outputs": [
    {
     "name": "stdout",
     "output_type": "stream",
     "text": [
      "30\n"
     ]
    }
   ],
   "source": [
    "# Example \n",
    "\n",
    "num1 = 10\n",
    "num2 = 20\n",
    "num3 = num1 + num2\n",
    "print(num3)"
   ]
  },
  {
   "cell_type": "code",
   "execution_count": 18,
   "id": "63ff3381",
   "metadata": {},
   "outputs": [
    {
     "name": "stdout",
     "output_type": "stream",
     "text": [
      "50\n"
     ]
    }
   ],
   "source": [
    "# Now will see the example of assigment operators\n",
    "num3 = num3 + num2        # Insted of writing like this we can use assigment operators \n",
    "print(num3)"
   ]
  },
  {
   "cell_type": "code",
   "execution_count": 19,
   "id": "a1075356",
   "metadata": {},
   "outputs": [
    {
     "name": "stdout",
     "output_type": "stream",
     "text": [
      "70\n"
     ]
    }
   ],
   "source": [
    "# Insted of assigning separately we can use assignment operator for short hand writting\n",
    "num3 += num2            # internaly it work like num3 = num3+num2\n",
    "print(num3)"
   ]
  },
  {
   "cell_type": "markdown",
   "id": "f9ea17df",
   "metadata": {},
   "source": [
    "### Perform the same operation for rest of the operators"
   ]
  },
  {
   "cell_type": "markdown",
   "id": "255c3ee1",
   "metadata": {},
   "source": [
    "## Comparision Operators [Relationship Operator]\n",
    "Comparision Operators are used to compare two values and Output of Comparision operator is always an Boolean value"
   ]
  },
  {
   "cell_type": "markdown",
   "id": "3c495b74",
   "metadata": {},
   "source": [
    "# Type of Comparision Operators \n",
    "1. Equal-to (==)\n",
    "2. Not Equal-to (!=)\n",
    "3. Greater Than (>)\n",
    "4. Less Than (<)\n",
    "5. Greater Than or Equal-to (>=)\n",
    "6. Less Than or Equal-to (<=)"
   ]
  },
  {
   "cell_type": "code",
   "execution_count": 16,
   "id": "32c0b731",
   "metadata": {},
   "outputs": [],
   "source": [
    "x = 20\n",
    "y = 25"
   ]
  },
  {
   "cell_type": "code",
   "execution_count": 20,
   "id": "caefd560",
   "metadata": {},
   "outputs": [
    {
     "name": "stdout",
     "output_type": "stream",
     "text": [
      "comparing x is equal-to y = False\n"
     ]
    }
   ],
   "source": [
    "# Equal-to\n",
    "compare = x == y\n",
    "print('comparing x is equal-to y =',compare)"
   ]
  },
  {
   "cell_type": "code",
   "execution_count": 19,
   "id": "92da8cb5",
   "metadata": {},
   "outputs": [
    {
     "name": "stdout",
     "output_type": "stream",
     "text": [
      "comparing x is not equal-to y = True\n"
     ]
    }
   ],
   "source": [
    "# Not Equal-to\n",
    "compare = x != y\n",
    "print('comparing x is not equal-to y =',compare)"
   ]
  },
  {
   "cell_type": "code",
   "execution_count": 20,
   "id": "8e1703fe",
   "metadata": {},
   "outputs": [
    {
     "name": "stdout",
     "output_type": "stream",
     "text": [
      "comparing x is Greater Than y = False\n"
     ]
    }
   ],
   "source": [
    "# Greater Than\n",
    "compare = x > y\n",
    "print('comparing x is Greater Than y =',compare)"
   ]
  },
  {
   "cell_type": "code",
   "execution_count": 21,
   "id": "4bdd7293",
   "metadata": {},
   "outputs": [
    {
     "name": "stdout",
     "output_type": "stream",
     "text": [
      "comparing x is Less Than y = True\n"
     ]
    }
   ],
   "source": [
    "# Less Than\n",
    "compare = x < y\n",
    "print('comparing x is Less Than y =',compare)"
   ]
  },
  {
   "cell_type": "code",
   "execution_count": 22,
   "id": "0f5dc2ac",
   "metadata": {},
   "outputs": [
    {
     "name": "stdout",
     "output_type": "stream",
     "text": [
      "comparing x is Greater than or equal-to y = False\n"
     ]
    }
   ],
   "source": [
    "# Greater Than Equal-to\n",
    "compare = x >= y\n",
    "print('comparing x is Greater than or equal-to y =',compare)"
   ]
  },
  {
   "cell_type": "code",
   "execution_count": 23,
   "id": "935895fc",
   "metadata": {},
   "outputs": [
    {
     "name": "stdout",
     "output_type": "stream",
     "text": [
      "comparing x is Less Than or equal-to y = True\n"
     ]
    }
   ],
   "source": [
    "# Equal-to\n",
    "compare = x <= y\n",
    "print('comparing x is Less Than or equal-to y =',compare)"
   ]
  },
  {
   "cell_type": "markdown",
   "id": "3b86e9ff",
   "metadata": {},
   "source": [
    "## Logical Operators\n",
    "Logical Operators are used to combine conditional statements\n",
    "\n",
    "Will first understand what is conditional statements before going to logical operators  \n",
    "Type of Conditional Statement in Python: \n",
    "Basically we have 3 Conditional Statements in Python\n",
    "1. if\n",
    "2. elif\n",
    "3. else\n"
   ]
  },
  {
   "cell_type": "code",
   "execution_count": 24,
   "id": "e44a64e1",
   "metadata": {},
   "outputs": [
    {
     "name": "stdout",
     "output_type": "stream",
     "text": [
      "we are doing great\n"
     ]
    }
   ],
   "source": [
    "if True:\n",
    "    print('we are doing great')\n",
    "else:\n",
    "    print('worst')"
   ]
  },
  {
   "cell_type": "code",
   "execution_count": 25,
   "id": "3d281973",
   "metadata": {},
   "outputs": [
    {
     "name": "stdout",
     "output_type": "stream",
     "text": [
      "i am doing double great\n"
     ]
    }
   ],
   "source": [
    "if False:\n",
    "    print('we are doing great')\n",
    "else:\n",
    "    print('i am doing double great')"
   ]
  },
  {
   "cell_type": "code",
   "execution_count": 26,
   "id": "2c2b1b72",
   "metadata": {},
   "outputs": [
    {
     "name": "stdout",
     "output_type": "stream",
     "text": [
      "Smaller\n"
     ]
    }
   ],
   "source": [
    "x = 20\n",
    "y = 25\n",
    "\n",
    "# Conditional Statement\n",
    "if x == y:                \n",
    "    print('Equal')\n",
    "elif x > y:\n",
    "    print('Greater')\n",
    "else:\n",
    "    print('Smaller')"
   ]
  },
  {
   "cell_type": "markdown",
   "id": "53d3d746",
   "metadata": {},
   "source": [
    "### Type of Logical Operators:\n",
    "1. and (Logical and)\n",
    "2. or (Logical or)\n",
    "3. not (Logical not)"
   ]
  },
  {
   "cell_type": "code",
   "execution_count": 27,
   "id": "2c99c6b7",
   "metadata": {},
   "outputs": [],
   "source": [
    "x=8"
   ]
  },
  {
   "cell_type": "code",
   "execution_count": 28,
   "id": "54169e3e",
   "metadata": {},
   "outputs": [
    {
     "data": {
      "text/plain": [
       "False"
      ]
     },
     "execution_count": 28,
     "metadata": {},
     "output_type": "execute_result"
    }
   ],
   "source": [
    "# Logical and operator\n",
    "x > 5 and x > 10           # In Logical and operator both the condition should be True"
   ]
  },
  {
   "cell_type": "code",
   "execution_count": 30,
   "id": "9cc78471",
   "metadata": {},
   "outputs": [
    {
     "data": {
      "text/plain": [
       "True"
      ]
     },
     "execution_count": 30,
     "metadata": {},
     "output_type": "execute_result"
    }
   ],
   "source": [
    "# Logical or operator\n",
    "x > 5 or x > 10            # In Logical or operator if any one of the condition should be True"
   ]
  },
  {
   "cell_type": "code",
   "execution_count": 31,
   "id": "a1678891",
   "metadata": {
    "scrolled": true
   },
   "outputs": [
    {
     "data": {
      "text/plain": [
       "True"
      ]
     },
     "execution_count": 31,
     "metadata": {},
     "output_type": "execute_result"
    }
   ],
   "source": [
    "# Logical not operator\n",
    "not(x>5 and x>10)          # In Logical not operator it prints opposit of the given condition"
   ]
  },
  {
   "cell_type": "markdown",
   "id": "1d866047",
   "metadata": {},
   "source": [
    "## Identity Operators\n",
    "Identity operators are used to compare objects   \n",
    "1. is  --> returns True if both variables are same object\n",
    "2. is not  ---> returns True if both variables are not same object "
   ]
  },
  {
   "cell_type": "code",
   "execution_count": 35,
   "id": "7f40f15a",
   "metadata": {},
   "outputs": [],
   "source": [
    "list1 = [10,20,30]\n",
    "list2 = [10,20,30]"
   ]
  },
  {
   "cell_type": "code",
   "execution_count": 36,
   "id": "00049289",
   "metadata": {},
   "outputs": [],
   "source": [
    "list3 = list1"
   ]
  },
  {
   "cell_type": "code",
   "execution_count": 37,
   "id": "f0640358",
   "metadata": {},
   "outputs": [
    {
     "data": {
      "text/plain": [
       "True"
      ]
     },
     "execution_count": 37,
     "metadata": {},
     "output_type": "execute_result"
    }
   ],
   "source": [
    "# Is operator      # It prints True because it is storing in same memory location\n",
    "list3 is list1   "
   ]
  },
  {
   "cell_type": "code",
   "execution_count": 38,
   "id": "4e382298",
   "metadata": {},
   "outputs": [
    {
     "data": {
      "text/plain": [
       "False"
      ]
     },
     "execution_count": 38,
     "metadata": {},
     "output_type": "execute_result"
    }
   ],
   "source": [
    "list3 is list2     # It prints False because it is not storing in same memory location"
   ]
  },
  {
   "cell_type": "code",
   "execution_count": 39,
   "id": "a8a4396a",
   "metadata": {},
   "outputs": [
    {
     "data": {
      "text/plain": [
       "True"
      ]
     },
     "execution_count": 39,
     "metadata": {},
     "output_type": "execute_result"
    }
   ],
   "source": [
    "list3 is not list2     # Now it prints True"
   ]
  },
  {
   "cell_type": "code",
   "execution_count": 60,
   "id": "cc0d2b1f",
   "metadata": {},
   "outputs": [
    {
     "name": "stdout",
     "output_type": "stream",
     "text": [
      "Memory Location for list1 = 2033695915776\n",
      "Memory Location for list2 = 2035811657024\n",
      "Memory Location for list3 = 2033695915776\n",
      "List1 and list3 store in same memory location\n"
     ]
    }
   ],
   "source": [
    "# Now will check for memory location \n",
    "print('Memory Location for list1 =',id(list1))\n",
    "print('Memory Location for list2 =',id(list2))\n",
    "print('Memory Location for list3 =',id(list3))\n",
    "\n",
    "if id(list1) == id(list2):\n",
    "    print('List1 mand list2 store in same memory location')\n",
    "elif id(list2) == id(list3):\n",
    "    print('List2 and list3 store in same memory location')\n",
    "elif id(list1) == id(list3):\n",
    "    print('List1 and list3 store in same memory location')"
   ]
  },
  {
   "cell_type": "markdown",
   "id": "337b8430",
   "metadata": {},
   "source": [
    "## Membership Operators\n",
    "Membership Operators are used to check if the certain value is present in a list    \n",
    "1. in\n",
    "2. not in\n"
   ]
  },
  {
   "cell_type": "code",
   "execution_count": 15,
   "id": "6afbc905",
   "metadata": {},
   "outputs": [],
   "source": [
    "list1 = [2,4,23,5]\n",
    "a=19"
   ]
  },
  {
   "cell_type": "code",
   "execution_count": 67,
   "id": "5e174b40",
   "metadata": {},
   "outputs": [
    {
     "data": {
      "text/plain": [
       "False"
      ]
     },
     "execution_count": 67,
     "metadata": {},
     "output_type": "execute_result"
    }
   ],
   "source": [
    "a in list1       # it will check if 19 is present in list1 or not if it is not present it return False else it prints True"
   ]
  },
  {
   "cell_type": "code",
   "execution_count": 70,
   "id": "de70e013",
   "metadata": {},
   "outputs": [
    {
     "data": {
      "text/plain": [
       "True"
      ]
     },
     "execution_count": 70,
     "metadata": {},
     "output_type": "execute_result"
    }
   ],
   "source": [
    "b = 5\n",
    "\n",
    "b in list1       # you can see 5 is present in list1 so it is printing as True"
   ]
  },
  {
   "cell_type": "markdown",
   "id": "309cea57",
   "metadata": {},
   "source": [
    "## Bitwise Operators\n",
    "Bitwise operators are used to compare binary numbers\n",
    "\n",
    "Type of Bitwise Operators\n",
    "1. Bitwise AND (&)   -- Sets each bit to 1 if both bits are 1\n",
    "2. Bitwise OR (|)    -- Sets each bit to 1 if one of the bits is 1\n",
    "3. Bitwise XOR (^)   -- Sets each bit to 1 if only one of the bits is 1\n",
    "4. Bitwise NOT (~)   -- Inverts all bits\n",
    "5. Left Shift (<<)   -- Shift left by pushing in zeros from the right and let the leftmost bits fell off\n",
    "6. Right Shift (>>)  -- shift right by pushing copies of the leftmost bit by adding zero"
   ]
  },
  {
   "cell_type": "code",
   "execution_count": 40,
   "id": "aa0e0ede",
   "metadata": {},
   "outputs": [
    {
     "data": {
      "text/plain": [
       "8"
      ]
     },
     "execution_count": 40,
     "metadata": {},
     "output_type": "execute_result"
    }
   ],
   "source": [
    "10 & 12"
   ]
  },
  {
   "cell_type": "code",
   "execution_count": 82,
   "id": "77441804",
   "metadata": {},
   "outputs": [
    {
     "name": "stdout",
     "output_type": "stream",
     "text": [
      "0b1010\n",
      "0b1100\n"
     ]
    }
   ],
   "source": [
    "# Example for bit wise and(&) operator\n",
    "print(bin(10))\n",
    "print(bin(12))"
   ]
  },
  {
   "cell_type": "code",
   "execution_count": 41,
   "id": "02f3f91f",
   "metadata": {},
   "outputs": [
    {
     "data": {
      "text/plain": [
       "8"
      ]
     },
     "execution_count": 41,
     "metadata": {},
     "output_type": "execute_result"
    }
   ],
   "source": [
    "# You can cross verify the output\n",
    "int(0b1000)"
   ]
  },
  {
   "cell_type": "code",
   "execution_count": 72,
   "id": "721578af",
   "metadata": {},
   "outputs": [
    {
     "data": {
      "text/plain": [
       "14"
      ]
     },
     "execution_count": 72,
     "metadata": {},
     "output_type": "execute_result"
    }
   ],
   "source": [
    "10 | 12"
   ]
  },
  {
   "cell_type": "code",
   "execution_count": 84,
   "id": "5fec6b6e",
   "metadata": {
    "scrolled": true
   },
   "outputs": [
    {
     "name": "stdout",
     "output_type": "stream",
     "text": [
      "0b1010\n",
      "0b1100\n"
     ]
    }
   ],
   "source": [
    "# Example for bit wise or(|) operator\n",
    "print(bin(10))\n",
    "print(bin(12))"
   ]
  },
  {
   "cell_type": "code",
   "execution_count": 85,
   "id": "cd511a2c",
   "metadata": {
    "scrolled": false
   },
   "outputs": [
    {
     "data": {
      "text/plain": [
       "14"
      ]
     },
     "execution_count": 85,
     "metadata": {},
     "output_type": "execute_result"
    }
   ],
   "source": [
    "# You can cross verify the output\n",
    "int(0b1110)"
   ]
  },
  {
   "cell_type": "code",
   "execution_count": 109,
   "id": "85842f98",
   "metadata": {
    "scrolled": true
   },
   "outputs": [
    {
     "data": {
      "text/plain": [
       "6"
      ]
     },
     "execution_count": 109,
     "metadata": {},
     "output_type": "execute_result"
    }
   ],
   "source": [
    "# Example for Bitwise XOR (^) operator\n",
    "10^12"
   ]
  },
  {
   "cell_type": "code",
   "execution_count": 110,
   "id": "a9775972",
   "metadata": {},
   "outputs": [
    {
     "name": "stdout",
     "output_type": "stream",
     "text": [
      "0b1010\n",
      "0b1100\n"
     ]
    }
   ],
   "source": [
    "print(bin(10))\n",
    "print(bin(12))"
   ]
  },
  {
   "cell_type": "code",
   "execution_count": 111,
   "id": "fcb2df43",
   "metadata": {
    "scrolled": false
   },
   "outputs": [
    {
     "data": {
      "text/plain": [
       "6"
      ]
     },
     "execution_count": 111,
     "metadata": {},
     "output_type": "execute_result"
    }
   ],
   "source": [
    "# You can cross verify the output\n",
    "int(0b0110)"
   ]
  },
  {
   "cell_type": "code",
   "execution_count": 114,
   "id": "7735b7ba",
   "metadata": {},
   "outputs": [
    {
     "data": {
      "text/plain": [
       "-11"
      ]
     },
     "execution_count": 114,
     "metadata": {},
     "output_type": "execute_result"
    }
   ],
   "source": [
    "~10"
   ]
  },
  {
   "cell_type": "code",
   "execution_count": 116,
   "id": "e354e880",
   "metadata": {},
   "outputs": [
    {
     "data": {
      "text/plain": [
       "-11"
      ]
     },
     "execution_count": 116,
     "metadata": {},
     "output_type": "execute_result"
    }
   ],
   "source": [
    "# The presence of the most significant bit is used to express negative integers. Bitwise NOT (~) -- Inverts all bits\n",
    "-(10+1)      # it performs -(x+1)"
   ]
  },
  {
   "cell_type": "code",
   "execution_count": 117,
   "id": "fbac8cc4",
   "metadata": {},
   "outputs": [
    {
     "data": {
      "text/plain": [
       "5"
      ]
     },
     "execution_count": 117,
     "metadata": {},
     "output_type": "execute_result"
    }
   ],
   "source": [
    "~-6"
   ]
  },
  {
   "cell_type": "code",
   "execution_count": 118,
   "id": "64572e37",
   "metadata": {},
   "outputs": [
    {
     "data": {
      "text/plain": [
       "5"
      ]
     },
     "execution_count": 118,
     "metadata": {},
     "output_type": "execute_result"
    }
   ],
   "source": [
    "-(-6+1)"
   ]
  },
  {
   "cell_type": "code",
   "execution_count": 73,
   "id": "5297c528",
   "metadata": {},
   "outputs": [
    {
     "data": {
      "text/plain": [
       "2"
      ]
     },
     "execution_count": 73,
     "metadata": {},
     "output_type": "execute_result"
    }
   ],
   "source": [
    "# right shift\n",
    "10 >> 2"
   ]
  },
  {
   "cell_type": "code",
   "execution_count": 86,
   "id": "31b6e142",
   "metadata": {
    "scrolled": true
   },
   "outputs": [
    {
     "name": "stdout",
     "output_type": "stream",
     "text": [
      "0b1010\n"
     ]
    }
   ],
   "source": [
    "# right shift  \n",
    "print(bin(10))"
   ]
  },
  {
   "cell_type": "code",
   "execution_count": 98,
   "id": "d0bf626a",
   "metadata": {},
   "outputs": [
    {
     "name": "stdout",
     "output_type": "stream",
     "text": [
      "2\n"
     ]
    }
   ],
   "source": [
    "# after shifting right for 2 place\n",
    "print(int(0b10))"
   ]
  },
  {
   "cell_type": "code",
   "execution_count": 74,
   "id": "a5d2b1cb",
   "metadata": {
    "scrolled": true
   },
   "outputs": [
    {
     "data": {
      "text/plain": [
       "40"
      ]
     },
     "execution_count": 74,
     "metadata": {},
     "output_type": "execute_result"
    }
   ],
   "source": [
    "# left shift\n",
    "10 << 2"
   ]
  },
  {
   "cell_type": "code",
   "execution_count": 101,
   "id": "39684dcc",
   "metadata": {},
   "outputs": [
    {
     "name": "stdout",
     "output_type": "stream",
     "text": [
      "0b1010\n"
     ]
    }
   ],
   "source": [
    "# right shift  \n",
    "print(bin(10))"
   ]
  },
  {
   "cell_type": "code",
   "execution_count": 102,
   "id": "2e8aa9e3",
   "metadata": {
    "scrolled": true
   },
   "outputs": [
    {
     "name": "stdout",
     "output_type": "stream",
     "text": [
      "40\n"
     ]
    }
   ],
   "source": [
    "# after shifting left\" for 2 place\n",
    "print(int(0b101000))"
   ]
  }
 ],
 "metadata": {
  "kernelspec": {
   "display_name": "Python 3 (ipykernel)",
   "language": "python",
   "name": "python3"
  },
  "language_info": {
   "codemirror_mode": {
    "name": "ipython",
    "version": 3
   },
   "file_extension": ".py",
   "mimetype": "text/x-python",
   "name": "python",
   "nbconvert_exporter": "python",
   "pygments_lexer": "ipython3",
   "version": "3.11.5"
  }
 },
 "nbformat": 4,
 "nbformat_minor": 5
}
